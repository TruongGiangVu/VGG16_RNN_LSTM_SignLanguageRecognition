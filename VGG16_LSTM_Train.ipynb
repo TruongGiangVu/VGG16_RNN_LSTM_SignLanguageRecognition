{
  "nbformat": 4,
  "nbformat_minor": 0,
  "metadata": {
    "accelerator": "GPU",
    "colab": {
      "name": "VGG16_LSTM_Train.ipynb",
      "provenance": [],
      "collapsed_sections": [],
      "toc_visible": true,
      "include_colab_link": true
    },
    "kernelspec": {
      "display_name": "Python 3",
      "name": "python3"
    },
    "language_info": {
      "name": "python"
    }
  },
  "cells": [
    {
      "cell_type": "markdown",
      "metadata": {
        "id": "view-in-github",
        "colab_type": "text"
      },
      "source": [
        "<a href=\"https://colab.research.google.com/github/TruongGiangVu/VGG16_RNN_LSTM_SignLanguageRecognition/blob/main/VGG16_LSTM_Train.ipynb\" target=\"_parent\"><img src=\"https://colab.research.google.com/assets/colab-badge.svg\" alt=\"Open In Colab\"/></a>"
      ]
    },
    {
      "cell_type": "markdown",
      "metadata": {
        "id": "sZYRYOno1dpk"
      },
      "source": [
        "# Import and library"
      ]
    },
    {
      "cell_type": "code",
      "metadata": {
        "id": "E79CbRKRRC8n"
      },
      "source": [
        "!pip uninstall tensorflow\n",
        "!pip install --no-cache-dir tensorflow==2.2.0"
      ],
      "execution_count": null,
      "outputs": []
    },
    {
      "cell_type": "code",
      "metadata": {
        "colab": {
          "base_uri": "https://localhost:8080/"
        },
        "id": "8bPILeIP1Q0F",
        "outputId": "a6450fdf-19b8-40d4-ed69-6a0a80509973"
      },
      "source": [
        "from google.colab import drive\n",
        "drive.mount('/content/drive')"
      ],
      "execution_count": null,
      "outputs": [
        {
          "output_type": "stream",
          "text": [
            "Mounted at /content/drive\n"
          ],
          "name": "stdout"
        }
      ]
    },
    {
      "cell_type": "code",
      "metadata": {
        "id": "QDWROD701Y9T"
      },
      "source": [
        "# common library \n",
        "import numpy as np\n",
        "import os\n",
        "import time\n",
        "import cv2\n",
        "import matplotlib.pyplot as plt\n",
        "# import glob\n",
        "from google.colab.patches import cv2_imshow\n",
        "\n",
        "# tensorflow library\n",
        "import tensorflow as tf\n",
        "from tensorflow import keras\n",
        "from keras.models import Sequential, Model\n",
        "from keras.layers import Dense, GRU, LSTM, Flatten, TimeDistributed, Flatten, BatchNormalization, Activation, Dropout, SimpleRNN\n",
        "from keras.layers import Conv2D, BatchNormalization, MaxPool2D, GlobalMaxPool2D, MaxPooling2D\n",
        "# from keras.layers import TimeDistributed, GRU, Dense, Dropout\n",
        "from keras.layers.convolutional import Conv3D, MaxPooling3D\n",
        "from keras.callbacks import ModelCheckpoint, ReduceLROnPlateau, EarlyStopping, CSVLogger\n",
        "from keras.losses import categorical_crossentropy\n",
        "from keras.optimizers import Adam\n",
        "\n",
        "from keras.applications.vgg16 import VGG16\n",
        "\n",
        "# reading data\n",
        "import csv\n",
        "import threading\n",
        "\n",
        "# Label encoder\n",
        "from sklearn.preprocessing import LabelEncoder\n",
        "from keras.utils import np_utils"
      ],
      "execution_count": null,
      "outputs": []
    },
    {
      "cell_type": "code",
      "metadata": {
        "colab": {
          "base_uri": "https://localhost:8080/"
        },
        "id": "5M4wpatp1ayj",
        "outputId": "b09a6ffc-612a-4989-cb76-0b149304ae14"
      },
      "source": [
        "# change path\n",
        "import os\n",
        "os.chdir('/content/drive/MyDrive/VSLProject')\n",
        "print(os.getcwd())"
      ],
      "execution_count": null,
      "outputs": [
        {
          "output_type": "stream",
          "text": [
            "/content/drive/.shortcut-targets-by-id/1FHuZ4ytzi1pRYSLpL7aaEmpdDa1jCION/VSLProject\n"
          ],
          "name": "stdout"
        }
      ]
    },
    {
      "cell_type": "markdown",
      "metadata": {
        "id": "Vk2zHXVImQuR"
      },
      "source": [
        "# Global params"
      ]
    },
    {
      "cell_type": "code",
      "metadata": {
        "id": "MXc4Mif5mPQv"
      },
      "source": [
        "# some global params\n",
        "SIZE = (64, 64) \n",
        "\n",
        "# SIZE = (224, 224) \n",
        "CHANNELS = 3\n",
        "NBFRAME = 10\n",
        "BS = 20\n",
        "\n",
        "NUM_THREADS = 8\n",
        "\n",
        "#preprocessing\n",
        "LENGTH_TRIM = 130\n",
        "classes_file = 'classes.npy'"
      ],
      "execution_count": null,
      "outputs": []
    },
    {
      "cell_type": "markdown",
      "metadata": {
        "id": "Ctcs49GI1fkK"
      },
      "source": [
        "# Functions"
      ]
    },
    {
      "cell_type": "markdown",
      "metadata": {
        "id": "DaN9P6CmiO_K"
      },
      "source": [
        "## Preprocessing"
      ]
    },
    {
      "cell_type": "code",
      "metadata": {
        "id": "327uX__ZNDfb"
      },
      "source": [
        "# resize image by dsize = (128, 128)\n",
        "def resizeImage(img, dsize):\n",
        "  sizeImg = (img.shape[0],img.shape[1])\n",
        "  if sizeImg != dsize and dsize != (None, None):\n",
        "    img = cv2.resize(img,dsize)\n",
        "  return img\n",
        "\n",
        "# remove left right background\n",
        "def removeTrimBackground(img, length = 120):\n",
        "  img = img[:,length:-1*length]\n",
        "  return img\n",
        "\n",
        "def resizeScale(img, scale = 30):\n",
        "  scale_percent = scale # percent of original size\n",
        "  width = int(img.shape[1] * scale_percent / 100)\n",
        "  height = int(img.shape[0] * scale_percent / 100)\n",
        "  dim = (width, height)\n",
        "    \n",
        "  # resize image\n",
        "  resized = cv2.resize(img, dim, interpolation = cv2.INTER_AREA)\n",
        "  return resized"
      ],
      "execution_count": null,
      "outputs": []
    },
    {
      "cell_type": "code",
      "metadata": {
        "id": "gRjyLr-SiR2f"
      },
      "source": [
        "def preprocessingImg(img, dsize = (128,128)):\n",
        "  # img = human_detection(img)\n",
        "  img = removeTrimBackground(img, LENGTH_TRIM)\n",
        "  img = resizeImage(img, dsize)\n",
        "  return img"
      ],
      "execution_count": null,
      "outputs": []
    },
    {
      "cell_type": "markdown",
      "metadata": {
        "id": "OfRX8pQrD2-j"
      },
      "source": [
        "## Reading data, Encode"
      ]
    },
    {
      "cell_type": "code",
      "metadata": {
        "id": "nKsshzNdhCC0"
      },
      "source": [
        "def readFramesThread(sema, x_data, y_data, word, path, dsize):\n",
        "  sema.acquire()\n",
        "    \n",
        "  frames = os.listdir(path)\n",
        "  lframes = []\n",
        "  \n",
        "  for frame in frames: # read all frames in video\n",
        "    frame_path = os.path.join(path, frame)\n",
        "    img = cv2.imread(frame_path, 1)\n",
        "    img = preprocessingImg(img, dsize)\n",
        "    lframes.append(img)\n",
        "\n",
        "  x_data.append(lframes) # add video into list\n",
        "  y_data.append(word) # add label\n",
        "\n",
        "  # time.sleep(0.2)\n",
        "  sema.release()\n",
        "\n",
        "\n",
        "def readDataThread(input_path, csv_file, dsize=(128,128), listWord = None):\n",
        "  x_data = []\n",
        "  y_data = []\n",
        "\n",
        "  maxthreads = NUM_THREADS\n",
        "  sema = threading.Semaphore(value=maxthreads) # sema type\n",
        "  threads = list()\n",
        "\n",
        "  with open(csv_file) as csvfile: # read path from csv\n",
        "    reader = csv.reader(csvfile)\n",
        "    for row in reader:\n",
        "      # video path\n",
        "      video = row[0]\n",
        "      word = video.split('/')[0]\n",
        "\n",
        "      if (listWord != None) and (word not in listWord): # decrease num classes\n",
        "        continue\n",
        "\n",
        "      # print(video)\n",
        "      path = os.path.join(input_path, video)\n",
        "      # execute thread\n",
        "      thread = threading.Thread( target=readFramesThread, args=(sema, x_data, y_data, word, path, dsize) ) \n",
        "      threads.append(thread)\n",
        "      thread.start()\n",
        "    \n",
        "    for t in threads: # for waiting all thread end \n",
        "      t.join()\n",
        "\n",
        "  return x_data, y_data\n"
      ],
      "execution_count": null,
      "outputs": []
    },
    {
      "cell_type": "code",
      "metadata": {
        "id": "HamZ9_5-DwGU"
      },
      "source": [
        "def readFrames(path, dsize):\n",
        "  frames = os.listdir(path)\n",
        "  lframes = []\n",
        "  \n",
        "  for frame in frames: # read all frames in video\n",
        "    frame_path = os.path.join(path, frame)\n",
        "    img = cv2.imread(frame_path, 1)\n",
        "    img = resizeImage(img, dsize)\n",
        "    lframes.append(img)\n",
        "\n",
        "  return lframes\n",
        "\n",
        "def readData(input_path, csv_file, dsize=(128,128), listWord = None):\n",
        "  x_data = []\n",
        "  y_data = []\n",
        "\n",
        "  with open(csv_file) as csvfile: # read path from csv\n",
        "    reader = csv.reader(csvfile)\n",
        "    for row in reader:\n",
        "      # video path\n",
        "      video = row[0]\n",
        "      word = video.split('/')[0]\n",
        "      # if (listWord != None) and (word not in listWord): # decrease num classes\n",
        "      #   continue\n",
        "\n",
        "      print(video)\n",
        "      path = os.path.join(input_path, video)\n",
        "      lframes = readFrames(path, dszie)\n",
        "      \n",
        "      x_data.append(lframes) # add video into list\n",
        "      y_data.append(word) # add label\n",
        "\n",
        "  return x_data, y_data"
      ],
      "execution_count": null,
      "outputs": []
    },
    {
      "cell_type": "code",
      "metadata": {
        "id": "OxDgCoWD1RMq"
      },
      "source": [
        "#encoder label to train in model\n",
        "def encoderLabel(y_train, y_test, classes_file = 'classes.npy', save = True):\n",
        "  encoder = LabelEncoder()\n",
        "  encoder.fit(y_train)\n",
        "\n",
        "  # save classes, save as numpy array\n",
        "  if save == True:\n",
        "    np.save(classes_file, encoder.classes_)\n",
        "\n",
        "  # encoder to number\n",
        "  y_train1 = encoder.fit_transform(y_train)\n",
        "  y_test1 = encoder.fit_transform(y_test)\n",
        "  # [a,c, y,a ] -> [1,2,3,1]\n",
        "  num_classes=len(np.unique(y_train))\n",
        "  #encoder to binary matrix\n",
        "  y_train2 = np_utils.to_categorical(y_train1, num_classes=len(np.unique(y_train)))\n",
        "  y_test2 = np_utils.to_categorical(y_test1, num_classes=len(np.unique(y_test)))\n",
        "  \n",
        "  return y_train2, y_test2, num_classes"
      ],
      "execution_count": null,
      "outputs": []
    },
    {
      "cell_type": "markdown",
      "metadata": {
        "id": "nJjdA_w21hd6"
      },
      "source": [
        "# Main"
      ]
    },
    {
      "cell_type": "code",
      "metadata": {
        "id": "lp5ZPoN-dOVK"
      },
      "source": [
        "# listWord = ['Argentina', 'Accept' , 'Birthday', 'Candy', 'Dance','Help','Last name', 'Food', 'Red','Enemy']"
      ],
      "execution_count": null,
      "outputs": []
    },
    {
      "cell_type": "markdown",
      "metadata": {
        "id": "4hz6emE_WtsS"
      },
      "source": [
        "## Read data and preprocess"
      ]
    },
    {
      "cell_type": "code",
      "metadata": {
        "colab": {
          "base_uri": "https://localhost:8080/"
        },
        "id": "jqgdA0asPGVJ",
        "outputId": "6799bf07-22e6-4875-ed24-0fed67585289"
      },
      "source": [
        "# prepare train data\n",
        "start = time.time()\n",
        "\n",
        "train_path = 'Datasets/lsa64_videoperfolder/train'\n",
        "train_csv = 'Datasets/lsa64_videoperfolder/train_2.csv'\n",
        "\n",
        "# x_train_o, y_train_o = readDataThread(train_path, train_csv, SIZE, listWord)\n",
        "x_train_o, y_train_o = readDataThread(train_path, train_csv, SIZE)\n",
        "\n",
        "end = time.time()\n",
        "print('time:', end - start)"
      ],
      "execution_count": null,
      "outputs": [
        {
          "output_type": "stream",
          "text": [
            "time: 817.1691498756409\n"
          ],
          "name": "stdout"
        }
      ]
    },
    {
      "cell_type": "code",
      "metadata": {
        "colab": {
          "base_uri": "https://localhost:8080/"
        },
        "id": "89FBravF1kYU",
        "outputId": "3907bcbd-0cc5-46f7-deca-7006a50b80a4"
      },
      "source": [
        "# prepare test data\n",
        "start = time.time()\n",
        "\n",
        "test_path = 'Datasets/lsa64_videoperfolder/train'\n",
        "test_csv = 'Datasets/lsa64_videoperfolder/val_2.csv'\n",
        "\n",
        "# x_test_o, y_test_o = readDataThread(test_path, test_csv, SIZE, listWord)\n",
        "x_test_o, y_test_o = readDataThread(test_path, test_csv, SIZE)\n",
        "\n",
        "end = time.time()\n",
        "print('time:', end - start)"
      ],
      "execution_count": null,
      "outputs": [
        {
          "output_type": "stream",
          "text": [
            "time: 255.95842719078064\n"
          ],
          "name": "stdout"
        }
      ]
    },
    {
      "cell_type": "code",
      "metadata": {
        "colab": {
          "base_uri": "https://localhost:8080/"
        },
        "id": "K5AbzLLQgbmZ",
        "outputId": "d3479327-9d35-490c-f7b8-c0ab0ae903d8"
      },
      "source": [
        "# convert to numpy array\n",
        "x_train = np.array(x_train_o)\n",
        "y_train = np.array(y_train_o)\n",
        "x_test = np.array(x_test_o)\n",
        "y_test = np.array(y_test_o)\n",
        "\n",
        "print('x_train shape', x_train.shape) # (400, 10, 128, 128, 3) max 2560\n",
        "print('y_train shape', y_train.shape) # (400,)\n",
        "print('x_test shape', x_test.shape) # (100, 10, 128, 128, 3) max 640\n",
        "print('y_test shape', y_test.shape) # (100,)\n",
        "\n",
        "convert = False\n",
        "if convert == True:\n",
        "  n, nb, h, w, c = x_train.shape\n",
        "  x_train= x_train.reshape(n, nb, h*w*c)\n",
        "  n, nb, h, w, c = x_test.shape\n",
        "  x_test= x_test.reshape(n, nb, h*w*c)\n",
        "\n",
        "  print('x_train shape', x_train.shape) # (400, 10, 223) max 2560\n",
        "  print('y_train shape', y_train.shape) # (400,)\n",
        "  print('x_test shape', x_test.shape) # (100, 10, 128, 128, 3) max 640\n",
        "  print('y_test shape', y_test.shape) # (100,)"
      ],
      "execution_count": null,
      "outputs": [
        {
          "output_type": "stream",
          "text": [
            "x_train shape (1920, 10, 64, 64, 3)\n",
            "y_train shape (1920,)\n",
            "x_test shape (640, 10, 64, 64, 3)\n",
            "y_test shape (640,)\n"
          ],
          "name": "stdout"
        }
      ]
    },
    {
      "cell_type": "code",
      "metadata": {
        "id": "8GObsTcd8l9f"
      },
      "source": [
        "x_train = x_train /255.\n",
        "x_test = x_test / 255."
      ],
      "execution_count": null,
      "outputs": []
    },
    {
      "cell_type": "markdown",
      "metadata": {
        "id": "D2NRuWWvPc4H"
      },
      "source": [
        "## Encode label"
      ]
    },
    {
      "cell_type": "code",
      "metadata": {
        "colab": {
          "base_uri": "https://localhost:8080/"
        },
        "id": "C5N2S2E_fJWW",
        "outputId": "c84f1512-df8a-4cca-b997-8bb42d59881a"
      },
      "source": [
        "# show num classes, it is neccesảy to run\n",
        "listclasses =  np.unique(y_train)\n",
        "num_classes = len(listclasses)\n",
        "print(num_classes)\n",
        "print(listclasses)\n",
        "# encode label for training\n",
        "y_train_decode, y_test_decode, num_classes = encoderLabel(y_train, y_test)\n",
        "# y_train_decode, y_test_decode are var which encode for training\n",
        "# y_train, y_test are original var to test after that, for showing word from predicted video \n",
        "print(y_train_decode.shape)\n",
        "print(y_test_decode.shape)"
      ],
      "execution_count": null,
      "outputs": [
        {
          "output_type": "stream",
          "text": [
            "64\n",
            "['Accept' 'Appear' 'Argentina' 'Away' 'Barbecue' 'Bathe' 'Birthday'\n",
            " 'Bitter' 'Born' 'Breakfast' 'Bright' 'Buy' 'Call' 'Candy' 'Catch'\n",
            " 'Chewing-gum' 'Coin' 'Colors' 'Copy' 'Country' 'Dance' 'Deaf' 'Drawer'\n",
            " 'Enemy' 'Find' 'Food' 'Give' 'Green' 'Help' 'Hungry' 'Last name' 'Learn'\n",
            " 'Light-blue' 'Man' 'Map' 'Milk' 'Mock' 'Music' 'Name' 'None' 'Opaque'\n",
            " 'Patience' 'Perfume' 'Photo' 'Realize' 'Red' 'Red_2' 'Rice' 'Run' 'Ship'\n",
            " 'Shut down' 'Skimmer' 'Son' 'Spaghetti' 'Sweet milk' 'Thanks' 'To land'\n",
            " 'Trap' 'Uruguay' 'Water' 'Where' 'Women' 'Yellow' 'Yogurt']\n",
            "(1920, 64)\n",
            "(640, 64)\n"
          ],
          "name": "stdout"
        }
      ]
    },
    {
      "cell_type": "markdown",
      "metadata": {
        "id": "KKL-rBxz1vja"
      },
      "source": [
        "# Model"
      ]
    },
    {
      "cell_type": "markdown",
      "metadata": {
        "id": "Cd-5wA1QPRLI"
      },
      "source": [
        "## Model Architecture"
      ]
    },
    {
      "cell_type": "code",
      "metadata": {
        "id": "qUZGjk8g9HyK"
      },
      "source": [
        "def load_VGG16_model(shape=(112, 112, 3)):\n",
        "  base_model = VGG16(weights='imagenet', include_top=False, input_shape=shape)\n",
        "  print(\"Model loaded..!\")\n",
        "  base_model.summary()\n",
        "\n",
        "  # model.add(Flatten())\n",
        "  output1 = GlobalMaxPool2D()\n",
        "  output2 = Flatten()\n",
        "  module = keras.Sequential([base_model, output1, output2])\n",
        "  module.summary()\n",
        "  return module\n",
        "\n",
        "def LSTMModel(shape=(5, 112, 112, 3), nbout=3):\n",
        "  model = Sequential()\n",
        "  convnet = load_VGG16_model(shape[1:])\n",
        "  # convnet = VGG16_small(shape[1:])\n",
        "  model.add(TimeDistributed(convnet, input_shape=shape))\n",
        "\n",
        "  model.add(LSTM(256, dropout=0.2))\n",
        "  model.add(Dense(1024, activation='relu'))\n",
        "  model.add(Dropout(0.5))\n",
        "  model.add(Dense(nbout, activation='softmax'))\n",
        "  sgd = keras.optimizers.SGD(lr=0.00005, decay = 1e-6, momentum=0.9, nesterov=True)\n",
        "  # sgd = keras.optimizers.SGD( momentum=0.9, nesterov=True)\n",
        "  model.compile(optimizer=sgd, loss='categorical_crossentropy', metrics=['accuracy'])\n",
        "  return model"
      ],
      "execution_count": null,
      "outputs": []
    },
    {
      "cell_type": "code",
      "metadata": {
        "colab": {
          "base_uri": "https://localhost:8080/"
        },
        "id": "l95-KgmfyqBb",
        "outputId": "bef45d4d-2654-424a-86bd-77beb2af2a0c"
      },
      "source": [
        "#Create Model\n",
        "INSHAPE=(NBFRAME,) + SIZE + (CHANNELS,) # (5, 112, 112, 3)\n",
        "# INSHAPE= ( NBFRAME, SIZE[0] * SIZE[1] * CHANNELS)  # (5, 128 * 128 * 3)\n",
        "print(INSHAPE) \n",
        "model = LSTMModel(INSHAPE, num_classes)\n",
        "model.summary()"
      ],
      "execution_count": null,
      "outputs": [
        {
          "output_type": "stream",
          "text": [
            "(10, 64, 64, 3)\n",
            "Downloading data from https://storage.googleapis.com/tensorflow/keras-applications/vgg16/vgg16_weights_tf_dim_ordering_tf_kernels_notop.h5\n",
            "58892288/58889256 [==============================] - 0s 0us/step\n",
            "Model loaded..!\n",
            "Model: \"vgg16\"\n",
            "_________________________________________________________________\n",
            "Layer (type)                 Output Shape              Param #   \n",
            "=================================================================\n",
            "input_1 (InputLayer)         [(None, 64, 64, 3)]       0         \n",
            "_________________________________________________________________\n",
            "block1_conv1 (Conv2D)        (None, 64, 64, 64)        1792      \n",
            "_________________________________________________________________\n",
            "block1_conv2 (Conv2D)        (None, 64, 64, 64)        36928     \n",
            "_________________________________________________________________\n",
            "block1_pool (MaxPooling2D)   (None, 32, 32, 64)        0         \n",
            "_________________________________________________________________\n",
            "block2_conv1 (Conv2D)        (None, 32, 32, 128)       73856     \n",
            "_________________________________________________________________\n",
            "block2_conv2 (Conv2D)        (None, 32, 32, 128)       147584    \n",
            "_________________________________________________________________\n",
            "block2_pool (MaxPooling2D)   (None, 16, 16, 128)       0         \n",
            "_________________________________________________________________\n",
            "block3_conv1 (Conv2D)        (None, 16, 16, 256)       295168    \n",
            "_________________________________________________________________\n",
            "block3_conv2 (Conv2D)        (None, 16, 16, 256)       590080    \n",
            "_________________________________________________________________\n",
            "block3_conv3 (Conv2D)        (None, 16, 16, 256)       590080    \n",
            "_________________________________________________________________\n",
            "block3_pool (MaxPooling2D)   (None, 8, 8, 256)         0         \n",
            "_________________________________________________________________\n",
            "block4_conv1 (Conv2D)        (None, 8, 8, 512)         1180160   \n",
            "_________________________________________________________________\n",
            "block4_conv2 (Conv2D)        (None, 8, 8, 512)         2359808   \n",
            "_________________________________________________________________\n",
            "block4_conv3 (Conv2D)        (None, 8, 8, 512)         2359808   \n",
            "_________________________________________________________________\n",
            "block4_pool (MaxPooling2D)   (None, 4, 4, 512)         0         \n",
            "_________________________________________________________________\n",
            "block5_conv1 (Conv2D)        (None, 4, 4, 512)         2359808   \n",
            "_________________________________________________________________\n",
            "block5_conv2 (Conv2D)        (None, 4, 4, 512)         2359808   \n",
            "_________________________________________________________________\n",
            "block5_conv3 (Conv2D)        (None, 4, 4, 512)         2359808   \n",
            "_________________________________________________________________\n",
            "block5_pool (MaxPooling2D)   (None, 2, 2, 512)         0         \n",
            "=================================================================\n",
            "Total params: 14,714,688\n",
            "Trainable params: 14,714,688\n",
            "Non-trainable params: 0\n",
            "_________________________________________________________________\n",
            "Model: \"sequential_1\"\n",
            "_________________________________________________________________\n",
            "Layer (type)                 Output Shape              Param #   \n",
            "=================================================================\n",
            "vgg16 (Model)                (None, 2, 2, 512)         14714688  \n",
            "_________________________________________________________________\n",
            "global_max_pooling2d (Global (None, 512)               0         \n",
            "_________________________________________________________________\n",
            "flatten (Flatten)            (None, 512)               0         \n",
            "=================================================================\n",
            "Total params: 14,714,688\n",
            "Trainable params: 14,714,688\n",
            "Non-trainable params: 0\n",
            "_________________________________________________________________\n",
            "Model: \"sequential\"\n",
            "_________________________________________________________________\n",
            "Layer (type)                 Output Shape              Param #   \n",
            "=================================================================\n",
            "time_distributed (TimeDistri (None, 10, 512)           14714688  \n",
            "_________________________________________________________________\n",
            "lstm (LSTM)                  (None, 256)               787456    \n",
            "_________________________________________________________________\n",
            "dense (Dense)                (None, 1024)              263168    \n",
            "_________________________________________________________________\n",
            "dropout (Dropout)            (None, 1024)              0         \n",
            "_________________________________________________________________\n",
            "dense_1 (Dense)              (None, 64)                65600     \n",
            "=================================================================\n",
            "Total params: 15,830,912\n",
            "Trainable params: 15,830,912\n",
            "Non-trainable params: 0\n",
            "_________________________________________________________________\n"
          ],
          "name": "stdout"
        }
      ]
    },
    {
      "cell_type": "markdown",
      "metadata": {
        "id": "jOH3yLN3PXh-"
      },
      "source": [
        "## Define model and run"
      ]
    },
    {
      "cell_type": "code",
      "metadata": {
        "colab": {
          "base_uri": "https://localhost:8080/"
        },
        "id": "XxezPqNo2Bm_",
        "outputId": "3c0eada5-801e-4dd8-d282-62080243f853"
      },
      "source": [
        "tic = time.time()\n",
        "\n",
        "EPOCHS = 120\n",
        "early_stoping = EarlyStopping(monitor='val_accuracy', patience=9, verbose=1, mode='max')\n",
        "save_checkpoint = ModelCheckpoint('chkp/best-weights-giang.hdf5', monitor = 'val_accuracy', verbose = 1, save_best_only = True, save_weights_only = True, mode='max')\n",
        "csv_logger = CSVLogger('chkp/training-lstm.csv', separator=\",\", append=False) # dùng pandas đọc\n",
        "# reduce_lr = ReduceLROnPlateau(monitor = 'val_accuracy', factor = 0.2, patience = 1, min_lr = 1e-8, verbose=1)\n",
        "\n",
        "callbacks = [early_stoping,  \n",
        "             save_checkpoint,\n",
        "             csv_logger,\n",
        "            #  reduce_lr\n",
        "             ]\n",
        "# history = model.fit_generator(train,validation_data=valid,verbose=1,epochs=EPOCHS,callbacks=callbacks)\n",
        "history = model.fit(x_train, y_train_decode, \n",
        "            epochs=EPOCHS, \n",
        "            batch_size=BS,\n",
        "            shuffle=True,\n",
        "            validation_data = (x_test, y_test_decode),\n",
        "            verbose=1,\n",
        "            callbacks=callbacks)\n",
        "\n",
        "toc = time.time()\n",
        "print(\"TRAINING TIME: \", toc-tic)"
      ],
      "execution_count": null,
      "outputs": [
        {
          "output_type": "stream",
          "text": [
            "Epoch 1/120\n",
            "96/96 [==============================] - ETA: 0s - loss: 4.1863 - accuracy: 0.0135\n",
            "Epoch 00001: val_accuracy improved from -inf to 0.01719, saving model to chkp/best-weights-giang.hdf5\n",
            "96/96 [==============================] - 15s 160ms/step - loss: 4.1863 - accuracy: 0.0135 - val_loss: 4.1559 - val_accuracy: 0.0172\n",
            "Epoch 2/120\n",
            "96/96 [==============================] - ETA: 0s - loss: 4.1675 - accuracy: 0.0255\n",
            "Epoch 00002: val_accuracy improved from 0.01719 to 0.02187, saving model to chkp/best-weights-giang.hdf5\n",
            "96/96 [==============================] - 14s 150ms/step - loss: 4.1675 - accuracy: 0.0255 - val_loss: 4.1375 - val_accuracy: 0.0219\n",
            "Epoch 3/120\n",
            "96/96 [==============================] - ETA: 0s - loss: 4.1514 - accuracy: 0.0208\n",
            "Epoch 00003: val_accuracy improved from 0.02187 to 0.03438, saving model to chkp/best-weights-giang.hdf5\n",
            "96/96 [==============================] - 14s 150ms/step - loss: 4.1514 - accuracy: 0.0208 - val_loss: 4.1162 - val_accuracy: 0.0344\n",
            "Epoch 4/120\n",
            "96/96 [==============================] - ETA: 0s - loss: 4.1312 - accuracy: 0.0271\n",
            "Epoch 00004: val_accuracy improved from 0.03438 to 0.03594, saving model to chkp/best-weights-giang.hdf5\n",
            "96/96 [==============================] - 14s 150ms/step - loss: 4.1312 - accuracy: 0.0271 - val_loss: 4.0893 - val_accuracy: 0.0359\n",
            "Epoch 5/120\n",
            "96/96 [==============================] - ETA: 0s - loss: 4.1040 - accuracy: 0.0307\n",
            "Epoch 00005: val_accuracy improved from 0.03594 to 0.06719, saving model to chkp/best-weights-giang.hdf5\n",
            "96/96 [==============================] - 14s 150ms/step - loss: 4.1040 - accuracy: 0.0307 - val_loss: 4.0596 - val_accuracy: 0.0672\n",
            "Epoch 6/120\n",
            "96/96 [==============================] - ETA: 0s - loss: 4.0814 - accuracy: 0.0359\n",
            "Epoch 00006: val_accuracy improved from 0.06719 to 0.09375, saving model to chkp/best-weights-giang.hdf5\n",
            "96/96 [==============================] - 15s 151ms/step - loss: 4.0814 - accuracy: 0.0359 - val_loss: 4.0277 - val_accuracy: 0.0938\n",
            "Epoch 7/120\n",
            "96/96 [==============================] - ETA: 0s - loss: 4.0466 - accuracy: 0.0479\n",
            "Epoch 00007: val_accuracy improved from 0.09375 to 0.11875, saving model to chkp/best-weights-giang.hdf5\n",
            "96/96 [==============================] - 14s 151ms/step - loss: 4.0466 - accuracy: 0.0479 - val_loss: 3.9872 - val_accuracy: 0.1187\n",
            "Epoch 8/120\n",
            "96/96 [==============================] - ETA: 0s - loss: 4.0041 - accuracy: 0.0604\n",
            "Epoch 00008: val_accuracy improved from 0.11875 to 0.13750, saving model to chkp/best-weights-giang.hdf5\n",
            "96/96 [==============================] - 15s 153ms/step - loss: 4.0041 - accuracy: 0.0604 - val_loss: 3.9422 - val_accuracy: 0.1375\n",
            "Epoch 9/120\n",
            "96/96 [==============================] - ETA: 0s - loss: 3.9688 - accuracy: 0.0766\n",
            "Epoch 00009: val_accuracy improved from 0.13750 to 0.19062, saving model to chkp/best-weights-giang.hdf5\n",
            "96/96 [==============================] - 14s 150ms/step - loss: 3.9688 - accuracy: 0.0766 - val_loss: 3.8954 - val_accuracy: 0.1906\n",
            "Epoch 10/120\n",
            "96/96 [==============================] - ETA: 0s - loss: 3.9287 - accuracy: 0.0875\n",
            "Epoch 00010: val_accuracy improved from 0.19062 to 0.20469, saving model to chkp/best-weights-giang.hdf5\n",
            "96/96 [==============================] - 14s 148ms/step - loss: 3.9287 - accuracy: 0.0875 - val_loss: 3.8461 - val_accuracy: 0.2047\n",
            "Epoch 11/120\n",
            "96/96 [==============================] - ETA: 0s - loss: 3.8759 - accuracy: 0.1078\n",
            "Epoch 00011: val_accuracy improved from 0.20469 to 0.23281, saving model to chkp/best-weights-giang.hdf5\n",
            "96/96 [==============================] - 14s 148ms/step - loss: 3.8759 - accuracy: 0.1078 - val_loss: 3.7833 - val_accuracy: 0.2328\n",
            "Epoch 12/120\n",
            "96/96 [==============================] - ETA: 0s - loss: 3.8240 - accuracy: 0.1229\n",
            "Epoch 00012: val_accuracy improved from 0.23281 to 0.23438, saving model to chkp/best-weights-giang.hdf5\n",
            "96/96 [==============================] - 14s 148ms/step - loss: 3.8240 - accuracy: 0.1229 - val_loss: 3.7248 - val_accuracy: 0.2344\n",
            "Epoch 13/120\n",
            "96/96 [==============================] - ETA: 0s - loss: 3.7888 - accuracy: 0.1281\n",
            "Epoch 00013: val_accuracy improved from 0.23438 to 0.25781, saving model to chkp/best-weights-giang.hdf5\n",
            "96/96 [==============================] - 14s 148ms/step - loss: 3.7888 - accuracy: 0.1281 - val_loss: 3.6656 - val_accuracy: 0.2578\n",
            "Epoch 14/120\n",
            "96/96 [==============================] - ETA: 0s - loss: 3.7294 - accuracy: 0.1536\n",
            "Epoch 00014: val_accuracy improved from 0.25781 to 0.30469, saving model to chkp/best-weights-giang.hdf5\n",
            "96/96 [==============================] - 14s 148ms/step - loss: 3.7294 - accuracy: 0.1536 - val_loss: 3.6045 - val_accuracy: 0.3047\n",
            "Epoch 15/120\n",
            "96/96 [==============================] - ETA: 0s - loss: 3.6778 - accuracy: 0.1651\n",
            "Epoch 00015: val_accuracy improved from 0.30469 to 0.32344, saving model to chkp/best-weights-giang.hdf5\n",
            "96/96 [==============================] - 14s 144ms/step - loss: 3.6778 - accuracy: 0.1651 - val_loss: 3.5395 - val_accuracy: 0.3234\n",
            "Epoch 16/120\n",
            "96/96 [==============================] - ETA: 0s - loss: 3.6227 - accuracy: 0.1859\n",
            "Epoch 00016: val_accuracy did not improve from 0.32344\n",
            "96/96 [==============================] - 14s 144ms/step - loss: 3.6227 - accuracy: 0.1859 - val_loss: 3.4747 - val_accuracy: 0.3234\n",
            "Epoch 17/120\n",
            "96/96 [==============================] - ETA: 0s - loss: 3.5535 - accuracy: 0.2135\n",
            "Epoch 00017: val_accuracy improved from 0.32344 to 0.34375, saving model to chkp/best-weights-giang.hdf5\n",
            "96/96 [==============================] - 14s 149ms/step - loss: 3.5535 - accuracy: 0.2135 - val_loss: 3.3879 - val_accuracy: 0.3438\n",
            "Epoch 18/120\n",
            "96/96 [==============================] - ETA: 0s - loss: 3.5196 - accuracy: 0.2120\n",
            "Epoch 00018: val_accuracy improved from 0.34375 to 0.38750, saving model to chkp/best-weights-giang.hdf5\n",
            "96/96 [==============================] - 14s 149ms/step - loss: 3.5196 - accuracy: 0.2120 - val_loss: 3.3115 - val_accuracy: 0.3875\n",
            "Epoch 19/120\n",
            "96/96 [==============================] - ETA: 0s - loss: 3.4379 - accuracy: 0.2307\n",
            "Epoch 00019: val_accuracy improved from 0.38750 to 0.43281, saving model to chkp/best-weights-giang.hdf5\n",
            "96/96 [==============================] - 14s 149ms/step - loss: 3.4379 - accuracy: 0.2307 - val_loss: 3.2600 - val_accuracy: 0.4328\n",
            "Epoch 20/120\n",
            "96/96 [==============================] - ETA: 0s - loss: 3.3924 - accuracy: 0.2448\n",
            "Epoch 00020: val_accuracy did not improve from 0.43281\n",
            "96/96 [==============================] - 14s 142ms/step - loss: 3.3924 - accuracy: 0.2448 - val_loss: 3.1818 - val_accuracy: 0.4094\n",
            "Epoch 21/120\n",
            "96/96 [==============================] - ETA: 0s - loss: 3.3115 - accuracy: 0.2786\n",
            "Epoch 00021: val_accuracy improved from 0.43281 to 0.45000, saving model to chkp/best-weights-giang.hdf5\n",
            "96/96 [==============================] - 14s 150ms/step - loss: 3.3115 - accuracy: 0.2786 - val_loss: 3.0973 - val_accuracy: 0.4500\n",
            "Epoch 22/120\n",
            "96/96 [==============================] - ETA: 0s - loss: 3.2501 - accuracy: 0.2875\n",
            "Epoch 00022: val_accuracy improved from 0.45000 to 0.46875, saving model to chkp/best-weights-giang.hdf5\n",
            "96/96 [==============================] - 14s 149ms/step - loss: 3.2501 - accuracy: 0.2875 - val_loss: 3.0270 - val_accuracy: 0.4688\n",
            "Epoch 23/120\n",
            "96/96 [==============================] - ETA: 0s - loss: 3.2000 - accuracy: 0.3057\n",
            "Epoch 00023: val_accuracy improved from 0.46875 to 0.51250, saving model to chkp/best-weights-giang.hdf5\n",
            "96/96 [==============================] - 14s 149ms/step - loss: 3.2000 - accuracy: 0.3057 - val_loss: 2.9497 - val_accuracy: 0.5125\n",
            "Epoch 24/120\n",
            "96/96 [==============================] - ETA: 0s - loss: 3.1282 - accuracy: 0.3245\n",
            "Epoch 00024: val_accuracy improved from 0.51250 to 0.55000, saving model to chkp/best-weights-giang.hdf5\n",
            "96/96 [==============================] - 15s 152ms/step - loss: 3.1282 - accuracy: 0.3245 - val_loss: 2.8773 - val_accuracy: 0.5500\n",
            "Epoch 25/120\n",
            "96/96 [==============================] - ETA: 0s - loss: 3.0615 - accuracy: 0.3500\n",
            "Epoch 00025: val_accuracy improved from 0.55000 to 0.56094, saving model to chkp/best-weights-giang.hdf5\n",
            "96/96 [==============================] - 15s 152ms/step - loss: 3.0615 - accuracy: 0.3500 - val_loss: 2.8127 - val_accuracy: 0.5609\n",
            "Epoch 26/120\n",
            "96/96 [==============================] - ETA: 0s - loss: 2.9869 - accuracy: 0.3500\n",
            "Epoch 00026: val_accuracy did not improve from 0.56094\n",
            "96/96 [==============================] - 14s 146ms/step - loss: 2.9869 - accuracy: 0.3500 - val_loss: 2.7446 - val_accuracy: 0.5484\n",
            "Epoch 27/120\n",
            "96/96 [==============================] - ETA: 0s - loss: 2.9366 - accuracy: 0.3589\n",
            "Epoch 00027: val_accuracy improved from 0.56094 to 0.57344, saving model to chkp/best-weights-giang.hdf5\n",
            "96/96 [==============================] - 14s 150ms/step - loss: 2.9366 - accuracy: 0.3589 - val_loss: 2.6661 - val_accuracy: 0.5734\n",
            "Epoch 28/120\n",
            "96/96 [==============================] - ETA: 0s - loss: 2.8837 - accuracy: 0.3885\n",
            "Epoch 00028: val_accuracy improved from 0.57344 to 0.60781, saving model to chkp/best-weights-giang.hdf5\n",
            "96/96 [==============================] - 14s 149ms/step - loss: 2.8837 - accuracy: 0.3885 - val_loss: 2.6067 - val_accuracy: 0.6078\n",
            "Epoch 29/120\n",
            "96/96 [==============================] - ETA: 0s - loss: 2.8131 - accuracy: 0.3969\n",
            "Epoch 00029: val_accuracy improved from 0.60781 to 0.62187, saving model to chkp/best-weights-giang.hdf5\n",
            "96/96 [==============================] - 14s 150ms/step - loss: 2.8131 - accuracy: 0.3969 - val_loss: 2.5084 - val_accuracy: 0.6219\n",
            "Epoch 30/120\n",
            "96/96 [==============================] - ETA: 0s - loss: 2.7210 - accuracy: 0.4365\n",
            "Epoch 00030: val_accuracy improved from 0.62187 to 0.62813, saving model to chkp/best-weights-giang.hdf5\n",
            "96/96 [==============================] - 14s 149ms/step - loss: 2.7210 - accuracy: 0.4365 - val_loss: 2.4467 - val_accuracy: 0.6281\n",
            "Epoch 31/120\n",
            "96/96 [==============================] - ETA: 0s - loss: 2.6919 - accuracy: 0.4245\n",
            "Epoch 00031: val_accuracy improved from 0.62813 to 0.64219, saving model to chkp/best-weights-giang.hdf5\n",
            "96/96 [==============================] - 14s 148ms/step - loss: 2.6919 - accuracy: 0.4245 - val_loss: 2.3971 - val_accuracy: 0.6422\n",
            "Epoch 32/120\n",
            "96/96 [==============================] - ETA: 0s - loss: 2.6131 - accuracy: 0.4589\n",
            "Epoch 00032: val_accuracy improved from 0.64219 to 0.67344, saving model to chkp/best-weights-giang.hdf5\n",
            "96/96 [==============================] - 14s 148ms/step - loss: 2.6131 - accuracy: 0.4589 - val_loss: 2.3064 - val_accuracy: 0.6734\n",
            "Epoch 33/120\n",
            "96/96 [==============================] - ETA: 0s - loss: 2.5407 - accuracy: 0.4760\n",
            "Epoch 00033: val_accuracy did not improve from 0.67344\n",
            "96/96 [==============================] - 14s 141ms/step - loss: 2.5407 - accuracy: 0.4760 - val_loss: 2.2933 - val_accuracy: 0.6672\n",
            "Epoch 34/120\n",
            "96/96 [==============================] - ETA: 0s - loss: 2.5073 - accuracy: 0.4818\n",
            "Epoch 00034: val_accuracy improved from 0.67344 to 0.69219, saving model to chkp/best-weights-giang.hdf5\n",
            "96/96 [==============================] - 14s 150ms/step - loss: 2.5073 - accuracy: 0.4818 - val_loss: 2.1914 - val_accuracy: 0.6922\n",
            "Epoch 35/120\n",
            "96/96 [==============================] - ETA: 0s - loss: 2.4163 - accuracy: 0.5047\n",
            "Epoch 00035: val_accuracy improved from 0.69219 to 0.73594, saving model to chkp/best-weights-giang.hdf5\n",
            "96/96 [==============================] - 14s 149ms/step - loss: 2.4163 - accuracy: 0.5047 - val_loss: 2.1177 - val_accuracy: 0.7359\n",
            "Epoch 36/120\n",
            "96/96 [==============================] - ETA: 0s - loss: 2.3791 - accuracy: 0.5182\n",
            "Epoch 00036: val_accuracy did not improve from 0.73594\n",
            "96/96 [==============================] - 14s 142ms/step - loss: 2.3791 - accuracy: 0.5182 - val_loss: 2.0604 - val_accuracy: 0.7312\n",
            "Epoch 37/120\n",
            "96/96 [==============================] - ETA: 0s - loss: 2.2772 - accuracy: 0.5578\n",
            "Epoch 00037: val_accuracy did not improve from 0.73594\n",
            "96/96 [==============================] - 14s 141ms/step - loss: 2.2772 - accuracy: 0.5578 - val_loss: 2.0174 - val_accuracy: 0.7109\n",
            "Epoch 38/120\n",
            "96/96 [==============================] - ETA: 0s - loss: 2.2632 - accuracy: 0.5391\n",
            "Epoch 00038: val_accuracy improved from 0.73594 to 0.76094, saving model to chkp/best-weights-giang.hdf5\n",
            "96/96 [==============================] - 14s 149ms/step - loss: 2.2632 - accuracy: 0.5391 - val_loss: 1.9333 - val_accuracy: 0.7609\n",
            "Epoch 39/120\n",
            "96/96 [==============================] - ETA: 0s - loss: 2.2104 - accuracy: 0.5562\n",
            "Epoch 00039: val_accuracy did not improve from 0.76094\n",
            "96/96 [==============================] - 14s 142ms/step - loss: 2.2104 - accuracy: 0.5562 - val_loss: 1.9040 - val_accuracy: 0.7453\n",
            "Epoch 40/120\n",
            "96/96 [==============================] - ETA: 0s - loss: 2.1524 - accuracy: 0.5703\n",
            "Epoch 00040: val_accuracy did not improve from 0.76094\n",
            "96/96 [==============================] - 14s 142ms/step - loss: 2.1524 - accuracy: 0.5703 - val_loss: 1.8253 - val_accuracy: 0.7594\n",
            "Epoch 41/120\n",
            "96/96 [==============================] - ETA: 0s - loss: 2.1046 - accuracy: 0.5766\n",
            "Epoch 00041: val_accuracy improved from 0.76094 to 0.77969, saving model to chkp/best-weights-giang.hdf5\n",
            "96/96 [==============================] - 14s 149ms/step - loss: 2.1046 - accuracy: 0.5766 - val_loss: 1.7817 - val_accuracy: 0.7797\n",
            "Epoch 42/120\n",
            "96/96 [==============================] - ETA: 0s - loss: 2.0456 - accuracy: 0.5854\n",
            "Epoch 00042: val_accuracy improved from 0.77969 to 0.78594, saving model to chkp/best-weights-giang.hdf5\n",
            "96/96 [==============================] - 14s 148ms/step - loss: 2.0456 - accuracy: 0.5854 - val_loss: 1.7143 - val_accuracy: 0.7859\n",
            "Epoch 43/120\n",
            "96/96 [==============================] - ETA: 0s - loss: 1.9827 - accuracy: 0.6234\n",
            "Epoch 00043: val_accuracy improved from 0.78594 to 0.80469, saving model to chkp/best-weights-giang.hdf5\n",
            "96/96 [==============================] - 14s 148ms/step - loss: 1.9827 - accuracy: 0.6234 - val_loss: 1.6503 - val_accuracy: 0.8047\n",
            "Epoch 44/120\n",
            "96/96 [==============================] - ETA: 0s - loss: 1.9461 - accuracy: 0.6333\n",
            "Epoch 00044: val_accuracy did not improve from 0.80469\n",
            "96/96 [==============================] - 14s 145ms/step - loss: 1.9461 - accuracy: 0.6333 - val_loss: 1.6359 - val_accuracy: 0.8016\n",
            "Epoch 45/120\n",
            "96/96 [==============================] - ETA: 0s - loss: 1.8865 - accuracy: 0.6333\n",
            "Epoch 00045: val_accuracy improved from 0.80469 to 0.82187, saving model to chkp/best-weights-giang.hdf5\n",
            "96/96 [==============================] - 15s 154ms/step - loss: 1.8865 - accuracy: 0.6333 - val_loss: 1.5727 - val_accuracy: 0.8219\n",
            "Epoch 46/120\n",
            "96/96 [==============================] - ETA: 0s - loss: 1.8291 - accuracy: 0.6552\n",
            "Epoch 00046: val_accuracy did not improve from 0.82187\n",
            "96/96 [==============================] - 14s 141ms/step - loss: 1.8291 - accuracy: 0.6552 - val_loss: 1.5160 - val_accuracy: 0.8016\n",
            "Epoch 47/120\n",
            "96/96 [==============================] - ETA: 0s - loss: 1.8034 - accuracy: 0.6495\n",
            "Epoch 00047: val_accuracy improved from 0.82187 to 0.82500, saving model to chkp/best-weights-giang.hdf5\n",
            "96/96 [==============================] - 14s 151ms/step - loss: 1.8034 - accuracy: 0.6495 - val_loss: 1.4704 - val_accuracy: 0.8250\n",
            "Epoch 48/120\n",
            "96/96 [==============================] - ETA: 0s - loss: 1.7530 - accuracy: 0.6677\n",
            "Epoch 00048: val_accuracy improved from 0.82500 to 0.84531, saving model to chkp/best-weights-giang.hdf5\n",
            "96/96 [==============================] - 15s 152ms/step - loss: 1.7530 - accuracy: 0.6677 - val_loss: 1.4420 - val_accuracy: 0.8453\n",
            "Epoch 49/120\n",
            "96/96 [==============================] - ETA: 0s - loss: 1.7119 - accuracy: 0.6760\n",
            "Epoch 00049: val_accuracy improved from 0.84531 to 0.85469, saving model to chkp/best-weights-giang.hdf5\n",
            "96/96 [==============================] - 14s 149ms/step - loss: 1.7119 - accuracy: 0.6760 - val_loss: 1.3746 - val_accuracy: 0.8547\n",
            "Epoch 50/120\n",
            "96/96 [==============================] - ETA: 0s - loss: 1.6409 - accuracy: 0.6901\n",
            "Epoch 00050: val_accuracy did not improve from 0.85469\n",
            "96/96 [==============================] - 14s 142ms/step - loss: 1.6409 - accuracy: 0.6901 - val_loss: 1.3520 - val_accuracy: 0.8484\n",
            "Epoch 51/120\n",
            "96/96 [==============================] - ETA: 0s - loss: 1.6074 - accuracy: 0.7198\n",
            "Epoch 00051: val_accuracy improved from 0.85469 to 0.86250, saving model to chkp/best-weights-giang.hdf5\n",
            "96/96 [==============================] - 15s 151ms/step - loss: 1.6074 - accuracy: 0.7198 - val_loss: 1.3082 - val_accuracy: 0.8625\n",
            "Epoch 52/120\n",
            "96/96 [==============================] - ETA: 0s - loss: 1.5532 - accuracy: 0.7172\n",
            "Epoch 00052: val_accuracy improved from 0.86250 to 0.87187, saving model to chkp/best-weights-giang.hdf5\n",
            "96/96 [==============================] - 14s 150ms/step - loss: 1.5532 - accuracy: 0.7172 - val_loss: 1.2684 - val_accuracy: 0.8719\n",
            "Epoch 53/120\n",
            "96/96 [==============================] - ETA: 0s - loss: 1.5117 - accuracy: 0.7307\n",
            "Epoch 00053: val_accuracy improved from 0.87187 to 0.88281, saving model to chkp/best-weights-giang.hdf5\n",
            "96/96 [==============================] - 14s 149ms/step - loss: 1.5117 - accuracy: 0.7307 - val_loss: 1.2164 - val_accuracy: 0.8828\n",
            "Epoch 54/120\n",
            "96/96 [==============================] - ETA: 0s - loss: 1.4853 - accuracy: 0.7333\n",
            "Epoch 00054: val_accuracy did not improve from 0.88281\n",
            "96/96 [==============================] - 14s 143ms/step - loss: 1.4853 - accuracy: 0.7333 - val_loss: 1.1776 - val_accuracy: 0.8734\n",
            "Epoch 55/120\n",
            "96/96 [==============================] - ETA: 0s - loss: 1.4334 - accuracy: 0.7474\n",
            "Epoch 00055: val_accuracy improved from 0.88281 to 0.89062, saving model to chkp/best-weights-giang.hdf5\n",
            "96/96 [==============================] - 15s 153ms/step - loss: 1.4334 - accuracy: 0.7474 - val_loss: 1.1359 - val_accuracy: 0.8906\n",
            "Epoch 56/120\n",
            "96/96 [==============================] - ETA: 0s - loss: 1.4193 - accuracy: 0.7349\n",
            "Epoch 00056: val_accuracy did not improve from 0.89062\n",
            "96/96 [==============================] - 14s 142ms/step - loss: 1.4193 - accuracy: 0.7349 - val_loss: 1.1197 - val_accuracy: 0.8844\n",
            "Epoch 57/120\n",
            "96/96 [==============================] - ETA: 0s - loss: 1.3669 - accuracy: 0.7708\n",
            "Epoch 00057: val_accuracy did not improve from 0.89062\n",
            "96/96 [==============================] - 14s 143ms/step - loss: 1.3669 - accuracy: 0.7708 - val_loss: 1.0874 - val_accuracy: 0.8703\n",
            "Epoch 58/120\n",
            "96/96 [==============================] - ETA: 0s - loss: 1.3286 - accuracy: 0.7661\n",
            "Epoch 00058: val_accuracy improved from 0.89062 to 0.89219, saving model to chkp/best-weights-giang.hdf5\n",
            "96/96 [==============================] - 15s 151ms/step - loss: 1.3286 - accuracy: 0.7661 - val_loss: 1.0361 - val_accuracy: 0.8922\n",
            "Epoch 59/120\n",
            "96/96 [==============================] - ETA: 0s - loss: 1.2924 - accuracy: 0.7771\n",
            "Epoch 00059: val_accuracy did not improve from 0.89219\n",
            "96/96 [==============================] - 14s 143ms/step - loss: 1.2924 - accuracy: 0.7771 - val_loss: 1.0119 - val_accuracy: 0.8891\n",
            "Epoch 60/120\n",
            "96/96 [==============================] - ETA: 0s - loss: 1.2366 - accuracy: 0.7958\n",
            "Epoch 00060: val_accuracy improved from 0.89219 to 0.90781, saving model to chkp/best-weights-giang.hdf5\n",
            "96/96 [==============================] - 15s 151ms/step - loss: 1.2366 - accuracy: 0.7958 - val_loss: 0.9879 - val_accuracy: 0.9078\n",
            "Epoch 61/120\n",
            "96/96 [==============================] - ETA: 0s - loss: 1.2207 - accuracy: 0.7865\n",
            "Epoch 00061: val_accuracy improved from 0.90781 to 0.90938, saving model to chkp/best-weights-giang.hdf5\n",
            "96/96 [==============================] - 14s 151ms/step - loss: 1.2207 - accuracy: 0.7865 - val_loss: 0.9589 - val_accuracy: 0.9094\n",
            "Epoch 62/120\n",
            "96/96 [==============================] - ETA: 0s - loss: 1.1958 - accuracy: 0.7833\n",
            "Epoch 00062: val_accuracy improved from 0.90938 to 0.91562, saving model to chkp/best-weights-giang.hdf5\n",
            "96/96 [==============================] - 14s 150ms/step - loss: 1.1958 - accuracy: 0.7833 - val_loss: 0.9196 - val_accuracy: 0.9156\n",
            "Epoch 63/120\n",
            "96/96 [==============================] - ETA: 0s - loss: 1.1657 - accuracy: 0.8042\n",
            "Epoch 00063: val_accuracy improved from 0.91562 to 0.92500, saving model to chkp/best-weights-giang.hdf5\n",
            "96/96 [==============================] - 15s 157ms/step - loss: 1.1657 - accuracy: 0.8042 - val_loss: 0.8786 - val_accuracy: 0.9250\n",
            "Epoch 64/120\n",
            "96/96 [==============================] - ETA: 0s - loss: 1.1167 - accuracy: 0.8172\n",
            "Epoch 00064: val_accuracy did not improve from 0.92500\n",
            "96/96 [==============================] - 14s 147ms/step - loss: 1.1167 - accuracy: 0.8172 - val_loss: 0.8649 - val_accuracy: 0.9078\n",
            "Epoch 65/120\n",
            "96/96 [==============================] - ETA: 0s - loss: 1.1065 - accuracy: 0.8198\n",
            "Epoch 00065: val_accuracy did not improve from 0.92500\n",
            "96/96 [==============================] - 14s 142ms/step - loss: 1.1065 - accuracy: 0.8198 - val_loss: 0.8528 - val_accuracy: 0.9203\n",
            "Epoch 66/120\n",
            "96/96 [==============================] - ETA: 0s - loss: 1.0719 - accuracy: 0.8292\n",
            "Epoch 00066: val_accuracy did not improve from 0.92500\n",
            "96/96 [==============================] - 14s 142ms/step - loss: 1.0719 - accuracy: 0.8292 - val_loss: 0.8383 - val_accuracy: 0.9234\n",
            "Epoch 67/120\n",
            "96/96 [==============================] - ETA: 0s - loss: 1.0302 - accuracy: 0.8516\n",
            "Epoch 00067: val_accuracy improved from 0.92500 to 0.92656, saving model to chkp/best-weights-giang.hdf5\n",
            "96/96 [==============================] - 15s 151ms/step - loss: 1.0302 - accuracy: 0.8516 - val_loss: 0.7821 - val_accuracy: 0.9266\n",
            "Epoch 68/120\n",
            "96/96 [==============================] - ETA: 0s - loss: 0.9977 - accuracy: 0.8464\n",
            "Epoch 00068: val_accuracy improved from 0.92656 to 0.93594, saving model to chkp/best-weights-giang.hdf5\n",
            "96/96 [==============================] - 14s 150ms/step - loss: 0.9977 - accuracy: 0.8464 - val_loss: 0.7716 - val_accuracy: 0.9359\n",
            "Epoch 69/120\n",
            "96/96 [==============================] - ETA: 0s - loss: 0.9547 - accuracy: 0.8526\n",
            "Epoch 00069: val_accuracy did not improve from 0.93594\n",
            "96/96 [==============================] - 14s 142ms/step - loss: 0.9547 - accuracy: 0.8526 - val_loss: 0.7462 - val_accuracy: 0.9250\n",
            "Epoch 70/120\n",
            "96/96 [==============================] - ETA: 0s - loss: 0.9551 - accuracy: 0.8495\n",
            "Epoch 00070: val_accuracy improved from 0.93594 to 0.93750, saving model to chkp/best-weights-giang.hdf5\n",
            "96/96 [==============================] - 14s 151ms/step - loss: 0.9551 - accuracy: 0.8495 - val_loss: 0.7199 - val_accuracy: 0.9375\n",
            "Epoch 71/120\n",
            "96/96 [==============================] - ETA: 0s - loss: 0.9332 - accuracy: 0.8526\n",
            "Epoch 00071: val_accuracy did not improve from 0.93750\n",
            "96/96 [==============================] - 14s 142ms/step - loss: 0.9332 - accuracy: 0.8526 - val_loss: 0.7007 - val_accuracy: 0.9359\n",
            "Epoch 72/120\n",
            "96/96 [==============================] - ETA: 0s - loss: 0.9082 - accuracy: 0.8599\n",
            "Epoch 00072: val_accuracy did not improve from 0.93750\n",
            "96/96 [==============================] - 14s 142ms/step - loss: 0.9082 - accuracy: 0.8599 - val_loss: 0.6897 - val_accuracy: 0.9219\n",
            "Epoch 73/120\n",
            "96/96 [==============================] - ETA: 0s - loss: 0.8788 - accuracy: 0.8573\n",
            "Epoch 00073: val_accuracy did not improve from 0.93750\n",
            "96/96 [==============================] - 14s 143ms/step - loss: 0.8788 - accuracy: 0.8573 - val_loss: 0.6564 - val_accuracy: 0.9375\n",
            "Epoch 74/120\n",
            "96/96 [==============================] - ETA: 0s - loss: 0.8454 - accuracy: 0.8802\n",
            "Epoch 00074: val_accuracy improved from 0.93750 to 0.94531, saving model to chkp/best-weights-giang.hdf5\n",
            "96/96 [==============================] - 14s 151ms/step - loss: 0.8454 - accuracy: 0.8802 - val_loss: 0.6378 - val_accuracy: 0.9453\n",
            "Epoch 75/120\n",
            "96/96 [==============================] - ETA: 0s - loss: 0.8442 - accuracy: 0.8687\n",
            "Epoch 00075: val_accuracy did not improve from 0.94531\n",
            "96/96 [==============================] - 14s 142ms/step - loss: 0.8442 - accuracy: 0.8687 - val_loss: 0.6365 - val_accuracy: 0.9422\n",
            "Epoch 76/120\n",
            "96/96 [==============================] - ETA: 0s - loss: 0.8078 - accuracy: 0.8844\n",
            "Epoch 00076: val_accuracy improved from 0.94531 to 0.95469, saving model to chkp/best-weights-giang.hdf5\n",
            "96/96 [==============================] - 15s 152ms/step - loss: 0.8078 - accuracy: 0.8844 - val_loss: 0.5963 - val_accuracy: 0.9547\n",
            "Epoch 77/120\n",
            "96/96 [==============================] - ETA: 0s - loss: 0.7864 - accuracy: 0.8859\n",
            "Epoch 00077: val_accuracy did not improve from 0.95469\n",
            "96/96 [==============================] - 14s 142ms/step - loss: 0.7864 - accuracy: 0.8859 - val_loss: 0.5870 - val_accuracy: 0.9406\n",
            "Epoch 78/120\n",
            "96/96 [==============================] - ETA: 0s - loss: 0.7535 - accuracy: 0.9047\n",
            "Epoch 00078: val_accuracy did not improve from 0.95469\n",
            "96/96 [==============================] - 14s 142ms/step - loss: 0.7535 - accuracy: 0.9047 - val_loss: 0.5610 - val_accuracy: 0.9516\n",
            "Epoch 79/120\n",
            "96/96 [==============================] - ETA: 0s - loss: 0.7460 - accuracy: 0.9010\n",
            "Epoch 00079: val_accuracy did not improve from 0.95469\n",
            "96/96 [==============================] - 14s 142ms/step - loss: 0.7460 - accuracy: 0.9010 - val_loss: 0.5519 - val_accuracy: 0.9531\n",
            "Epoch 80/120\n",
            "96/96 [==============================] - ETA: 0s - loss: 0.7307 - accuracy: 0.9042\n",
            "Epoch 00080: val_accuracy improved from 0.95469 to 0.95625, saving model to chkp/best-weights-giang.hdf5\n",
            "96/96 [==============================] - 14s 151ms/step - loss: 0.7307 - accuracy: 0.9042 - val_loss: 0.5263 - val_accuracy: 0.9563\n",
            "Epoch 81/120\n",
            "96/96 [==============================] - ETA: 0s - loss: 0.7055 - accuracy: 0.9094\n",
            "Epoch 00081: val_accuracy did not improve from 0.95625\n",
            "96/96 [==============================] - 14s 143ms/step - loss: 0.7055 - accuracy: 0.9094 - val_loss: 0.5177 - val_accuracy: 0.9547\n",
            "Epoch 82/120\n",
            "96/96 [==============================] - ETA: 0s - loss: 0.7021 - accuracy: 0.9031\n",
            "Epoch 00082: val_accuracy did not improve from 0.95625\n",
            "96/96 [==============================] - 14s 147ms/step - loss: 0.7021 - accuracy: 0.9031 - val_loss: 0.5053 - val_accuracy: 0.9516\n",
            "Epoch 83/120\n",
            "96/96 [==============================] - ETA: 0s - loss: 0.6742 - accuracy: 0.9104\n",
            "Epoch 00083: val_accuracy did not improve from 0.95625\n",
            "96/96 [==============================] - 14s 146ms/step - loss: 0.6742 - accuracy: 0.9104 - val_loss: 0.4997 - val_accuracy: 0.9563\n",
            "Epoch 84/120\n",
            "96/96 [==============================] - ETA: 0s - loss: 0.6538 - accuracy: 0.9224\n",
            "Epoch 00084: val_accuracy improved from 0.95625 to 0.96094, saving model to chkp/best-weights-giang.hdf5\n",
            "96/96 [==============================] - 15s 154ms/step - loss: 0.6538 - accuracy: 0.9224 - val_loss: 0.4792 - val_accuracy: 0.9609\n",
            "Epoch 85/120\n",
            "96/96 [==============================] - ETA: 0s - loss: 0.6467 - accuracy: 0.9276\n",
            "Epoch 00085: val_accuracy did not improve from 0.96094\n",
            "96/96 [==============================] - 14s 143ms/step - loss: 0.6467 - accuracy: 0.9276 - val_loss: 0.4667 - val_accuracy: 0.9563\n",
            "Epoch 86/120\n",
            "96/96 [==============================] - ETA: 0s - loss: 0.6333 - accuracy: 0.9260\n",
            "Epoch 00086: val_accuracy did not improve from 0.96094\n",
            "96/96 [==============================] - 14s 143ms/step - loss: 0.6333 - accuracy: 0.9260 - val_loss: 0.4560 - val_accuracy: 0.9563\n",
            "Epoch 87/120\n",
            "96/96 [==============================] - ETA: 0s - loss: 0.6170 - accuracy: 0.9219\n",
            "Epoch 00087: val_accuracy did not improve from 0.96094\n",
            "96/96 [==============================] - 14s 143ms/step - loss: 0.6170 - accuracy: 0.9219 - val_loss: 0.4467 - val_accuracy: 0.9563\n",
            "Epoch 88/120\n",
            "96/96 [==============================] - ETA: 0s - loss: 0.6114 - accuracy: 0.9208\n",
            "Epoch 00088: val_accuracy improved from 0.96094 to 0.96406, saving model to chkp/best-weights-giang.hdf5\n",
            "96/96 [==============================] - 15s 152ms/step - loss: 0.6114 - accuracy: 0.9208 - val_loss: 0.4306 - val_accuracy: 0.9641\n",
            "Epoch 89/120\n",
            "96/96 [==============================] - ETA: 0s - loss: 0.5923 - accuracy: 0.9281\n",
            "Epoch 00089: val_accuracy did not improve from 0.96406\n",
            "96/96 [==============================] - 14s 143ms/step - loss: 0.5923 - accuracy: 0.9281 - val_loss: 0.4077 - val_accuracy: 0.9609\n",
            "Epoch 90/120\n",
            "96/96 [==============================] - ETA: 0s - loss: 0.5723 - accuracy: 0.9260\n",
            "Epoch 00090: val_accuracy did not improve from 0.96406\n",
            "96/96 [==============================] - 14s 143ms/step - loss: 0.5723 - accuracy: 0.9260 - val_loss: 0.4051 - val_accuracy: 0.9578\n",
            "Epoch 91/120\n",
            "96/96 [==============================] - ETA: 0s - loss: 0.5455 - accuracy: 0.9297\n",
            "Epoch 00091: val_accuracy did not improve from 0.96406\n",
            "96/96 [==============================] - 14s 143ms/step - loss: 0.5455 - accuracy: 0.9297 - val_loss: 0.3995 - val_accuracy: 0.9578\n",
            "Epoch 92/120\n",
            "96/96 [==============================] - ETA: 0s - loss: 0.5477 - accuracy: 0.9323\n",
            "Epoch 00092: val_accuracy improved from 0.96406 to 0.96719, saving model to chkp/best-weights-giang.hdf5\n",
            "96/96 [==============================] - 15s 153ms/step - loss: 0.5477 - accuracy: 0.9323 - val_loss: 0.3791 - val_accuracy: 0.9672\n",
            "Epoch 93/120\n",
            "96/96 [==============================] - ETA: 0s - loss: 0.5334 - accuracy: 0.9396\n",
            "Epoch 00093: val_accuracy did not improve from 0.96719\n",
            "96/96 [==============================] - 15s 152ms/step - loss: 0.5334 - accuracy: 0.9396 - val_loss: 0.3851 - val_accuracy: 0.9609\n",
            "Epoch 94/120\n",
            "96/96 [==============================] - ETA: 0s - loss: 0.5058 - accuracy: 0.9422\n",
            "Epoch 00094: val_accuracy did not improve from 0.96719\n",
            "96/96 [==============================] - 14s 143ms/step - loss: 0.5058 - accuracy: 0.9422 - val_loss: 0.3625 - val_accuracy: 0.9625\n",
            "Epoch 95/120\n",
            "96/96 [==============================] - ETA: 0s - loss: 0.5092 - accuracy: 0.9453\n",
            "Epoch 00095: val_accuracy did not improve from 0.96719\n",
            "96/96 [==============================] - 14s 143ms/step - loss: 0.5092 - accuracy: 0.9453 - val_loss: 0.3534 - val_accuracy: 0.9625\n",
            "Epoch 96/120\n",
            "96/96 [==============================] - ETA: 0s - loss: 0.4987 - accuracy: 0.9448\n",
            "Epoch 00096: val_accuracy did not improve from 0.96719\n",
            "96/96 [==============================] - 14s 144ms/step - loss: 0.4987 - accuracy: 0.9448 - val_loss: 0.3605 - val_accuracy: 0.9625\n",
            "Epoch 97/120\n",
            "96/96 [==============================] - ETA: 0s - loss: 0.4879 - accuracy: 0.9495\n",
            "Epoch 00097: val_accuracy did not improve from 0.96719\n",
            "96/96 [==============================] - 14s 143ms/step - loss: 0.4879 - accuracy: 0.9495 - val_loss: 0.3398 - val_accuracy: 0.9641\n",
            "Epoch 98/120\n",
            "96/96 [==============================] - ETA: 0s - loss: 0.4698 - accuracy: 0.9484\n",
            "Epoch 00098: val_accuracy did not improve from 0.96719\n",
            "96/96 [==============================] - 14s 143ms/step - loss: 0.4698 - accuracy: 0.9484 - val_loss: 0.3302 - val_accuracy: 0.9656\n",
            "Epoch 99/120\n",
            "96/96 [==============================] - ETA: 0s - loss: 0.4543 - accuracy: 0.9552\n",
            "Epoch 00099: val_accuracy did not improve from 0.96719\n",
            "96/96 [==============================] - 14s 143ms/step - loss: 0.4543 - accuracy: 0.9552 - val_loss: 0.3206 - val_accuracy: 0.9672\n",
            "Epoch 100/120\n",
            "96/96 [==============================] - ETA: 0s - loss: 0.4348 - accuracy: 0.9635\n",
            "Epoch 00100: val_accuracy did not improve from 0.96719\n",
            "96/96 [==============================] - 14s 143ms/step - loss: 0.4348 - accuracy: 0.9635 - val_loss: 0.3191 - val_accuracy: 0.9672\n",
            "Epoch 101/120\n",
            "96/96 [==============================] - ETA: 0s - loss: 0.4424 - accuracy: 0.9573\n",
            "Epoch 00101: val_accuracy did not improve from 0.96719\n",
            "96/96 [==============================] - 14s 142ms/step - loss: 0.4424 - accuracy: 0.9573 - val_loss: 0.3256 - val_accuracy: 0.9578\n",
            "Epoch 00101: early stopping\n",
            "TRAINING TIME:  1450.603628873825\n"
          ],
          "name": "stdout"
        }
      ]
    },
    {
      "cell_type": "markdown",
      "metadata": {
        "id": "ixP0_K5yAAs_"
      },
      "source": [
        "## History running"
      ]
    },
    {
      "cell_type": "code",
      "metadata": {
        "id": "qB47jlnT___1",
        "colab": {
          "base_uri": "https://localhost:8080/",
          "height": 607
        },
        "outputId": "985ba5d2-2f74-47ca-83bc-42a69e668371"
      },
      "source": [
        "# list all data in history\n",
        "print(history.history.keys())\n",
        "# summarize history for accuracy\n",
        "plt.plot(history.history['accuracy'])\n",
        "plt.plot(history.history['val_accuracy'])\n",
        "plt.title('model accuracy')\n",
        "plt.ylabel('accuracy')\n",
        "plt.xlabel('epoch')\n",
        "plt.legend(['train', 'test'], loc='upper left')\n",
        "plt.show()\n",
        "print()\n",
        "# summarize history for loss\n",
        "plt.plot(history.history['loss'])\n",
        "plt.plot(history.history['val_loss'])\n",
        "plt.title('model loss')\n",
        "plt.ylabel('loss')\n",
        "plt.xlabel('epoch')\n",
        "plt.legend(['train', 'test'], loc='upper left')\n",
        "plt.show()"
      ],
      "execution_count": null,
      "outputs": [
        {
          "output_type": "stream",
          "text": [
            "dict_keys(['loss', 'accuracy', 'val_loss', 'val_accuracy'])\n"
          ],
          "name": "stdout"
        },
        {
          "output_type": "display_data",
          "data": {
            "image/png": "[encoded data removed]",
            "text/plain": [
              "<Figure size 432x288 with 1 Axes>"
            ]
          },
          "metadata": {
            "tags": [],
            "needs_background": "light"
          }
        },
        {
          "output_type": "stream",
          "text": [
            "\n"
          ],
          "name": "stdout"
        },
        {
          "output_type": "display_data",
          "data": {
            "image/png": "[encoded data removed]",
            "text/plain": [
              "<Figure size 432x288 with 1 Axes>"
            ]
          },
          "metadata": {
            "tags": [],
            "needs_background": "light"
          }
        }
      ]
    },
    {
      "cell_type": "markdown",
      "metadata": {
        "id": "hM8Azvf9LV_H"
      },
      "source": [
        "# References\n",
        "[1] face recognition code from NCKH: https://colab.research.google.com/drive/1I67IhZfni2sOlV36N6LqqIqf-S0KhACz\n",
        "\n",
        "[2] Model LSTM Giang: https://colab.research.google.com/drive/1_92N1vbv3fRBEguGeJrPSqGdGVVp5D0v\n",
        "\n",
        "[3] github retinanet: https://github.com/fizyr/keras-retinanet\n",
        "\n",
        "[4] ImageAI for Object detection: https://imageai.readthedocs.io/en/latest/detection/\n",
        "\n",
        "[5] Video Classification CNN and LSTM: https://github.com/sagarvegad/Video-Classification-CNN-and-LSTM-"
      ]
    }
  ]
}