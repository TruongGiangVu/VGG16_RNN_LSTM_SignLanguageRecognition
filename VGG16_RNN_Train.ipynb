{
  "nbformat": 4,
  "nbformat_minor": 0,
  "metadata": {
    "accelerator": "GPU",
    "colab": {
      "name": "VGG16_RNN_Train.ipynb",
      "provenance": [],
      "collapsed_sections": [],
      "toc_visible": true,
      "include_colab_link": true
    },
    "kernelspec": {
      "display_name": "Python 3",
      "name": "python3"
    },
    "language_info": {
      "name": "python"
    }
  },
  "cells": [
    {
      "cell_type": "markdown",
      "metadata": {
        "id": "view-in-github",
        "colab_type": "text"
      },
      "source": [
        "<a href=\"https://colab.research.google.com/github/TruongGiangVu/VGG16_RNN_LSTM_SignLanguageRecognition/blob/main/VGG16_RNN_Train.ipynb\" target=\"_parent\"><img src=\"https://colab.research.google.com/assets/colab-badge.svg\" alt=\"Open In Colab\"/></a>"
      ]
    },
    {
      "cell_type": "markdown",
      "metadata": {
        "id": "sZYRYOno1dpk"
      },
      "source": [
        "# Import and library"
      ]
    },
    {
      "cell_type": "code",
      "metadata": {
        "id": "8bPILeIP1Q0F",
        "colab": {
          "base_uri": "https://localhost:8080/"
        },
        "outputId": "ece040b1-6fd9-4587-c6e8-99a1ee9927b5"
      },
      "source": [
        "from google.colab import drive\n",
        "drive.mount('/content/drive')"
      ],
      "execution_count": null,
      "outputs": [
        {
          "output_type": "stream",
          "text": [
            "Mounted at /content/drive\n"
          ],
          "name": "stdout"
        }
      ]
    },
    {
      "cell_type": "code",
      "metadata": {
        "id": "QDWROD701Y9T"
      },
      "source": [
        "# common library \n",
        "import numpy as np\n",
        "import os\n",
        "import time\n",
        "import cv2\n",
        "import matplotlib.pyplot as plt\n",
        "# import glob\n",
        "from google.colab.patches import cv2_imshow\n",
        "\n",
        "# tensorflow library\n",
        "import tensorflow as tf\n",
        "from tensorflow import keras\n",
        "from keras.models import Sequential, Model\n",
        "from keras.layers import Dense, GRU, SimpleRNN, Flatten, TimeDistributed, Flatten, BatchNormalization, Activation, Dropout\n",
        "from keras.layers import Conv2D, BatchNormalization, MaxPool2D, GlobalMaxPool2D, MaxPooling2D\n",
        "# from keras.layers import TimeDistributed, GRU, Dense, Dropout\n",
        "from keras.layers.convolutional import Conv3D, MaxPooling3D\n",
        "from keras.callbacks import ModelCheckpoint, ReduceLROnPlateau, EarlyStopping, CSVLogger\n",
        "from keras.losses import categorical_crossentropy\n",
        "from keras.optimizers import Adam\n",
        "\n",
        "from keras.applications.vgg16 import VGG16\n",
        "\n",
        "# reading data\n",
        "import csv\n",
        "import threading\n",
        "\n",
        "# Label encoder\n",
        "from sklearn.preprocessing import LabelEncoder\n",
        "from keras.utils import np_utils"
      ],
      "execution_count": null,
      "outputs": []
    },
    {
      "cell_type": "code",
      "metadata": {
        "id": "5M4wpatp1ayj",
        "colab": {
          "base_uri": "https://localhost:8080/"
        },
        "outputId": "3129ea4e-771f-405e-9a2d-1546e7f36d88"
      },
      "source": [
        "# change path\n",
        "import os\n",
        "os.chdir('/content/drive/MyDrive/VSLProject')\n",
        "print(os.getcwd())"
      ],
      "execution_count": null,
      "outputs": [
        {
          "output_type": "stream",
          "text": [
            "/content/drive/MyDrive/VSLProject\n"
          ],
          "name": "stdout"
        }
      ]
    },
    {
      "cell_type": "markdown",
      "metadata": {
        "id": "Vk2zHXVImQuR"
      },
      "source": [
        "# Global params"
      ]
    },
    {
      "cell_type": "code",
      "metadata": {
        "id": "MXc4Mif5mPQv"
      },
      "source": [
        "# some global params\n",
        "SIZE = (64, 64) \n",
        "\n",
        "# SIZE = (224, 224) \n",
        "CHANNELS = 3\n",
        "NBFRAME = 10\n",
        "BS = 20\n",
        "\n",
        "NUM_THREADS = 8\n",
        "\n",
        "#preprocessing\n",
        "LENGTH_TRIM = 130\n",
        "classes_file = 'classes.npy'"
      ],
      "execution_count": null,
      "outputs": []
    },
    {
      "cell_type": "markdown",
      "metadata": {
        "id": "Ctcs49GI1fkK"
      },
      "source": [
        "# Functions"
      ]
    },
    {
      "cell_type": "markdown",
      "metadata": {
        "id": "DaN9P6CmiO_K"
      },
      "source": [
        "## Preprocessing"
      ]
    },
    {
      "cell_type": "code",
      "metadata": {
        "id": "327uX__ZNDfb"
      },
      "source": [
        "# resize image by dsize = (128, 128)\n",
        "def resizeImage(img, dsize):\n",
        "  sizeImg = (img.shape[0],img.shape[1])\n",
        "  if sizeImg != dsize and dsize != (None, None):\n",
        "    img = cv2.resize(img,dsize)\n",
        "  return img\n",
        "\n",
        "# remove left right background\n",
        "def removeTrimBackground(img, length = 120):\n",
        "  img = img[:,length:-1*length]\n",
        "  return img\n",
        "\n",
        "def resizeScale(img, scale = 30):\n",
        "  scale_percent = scale # percent of original size\n",
        "  width = int(img.shape[1] * scale_percent / 100)\n",
        "  height = int(img.shape[0] * scale_percent / 100)\n",
        "  dim = (width, height)\n",
        "    \n",
        "  # resize image\n",
        "  resized = cv2.resize(img, dim, interpolation = cv2.INTER_AREA)\n",
        "  return resized"
      ],
      "execution_count": null,
      "outputs": []
    },
    {
      "cell_type": "code",
      "metadata": {
        "id": "gRjyLr-SiR2f"
      },
      "source": [
        "def preprocessingImg(img, dsize = (128,128)):\n",
        "  # img = human_detection(img)\n",
        "  img = removeTrimBackground(img, LENGTH_TRIM)\n",
        "  img = resizeImage(img, dsize)\n",
        "  return img"
      ],
      "execution_count": null,
      "outputs": []
    },
    {
      "cell_type": "markdown",
      "metadata": {
        "id": "OfRX8pQrD2-j"
      },
      "source": [
        "## Reading data, Encode"
      ]
    },
    {
      "cell_type": "code",
      "metadata": {
        "id": "nKsshzNdhCC0"
      },
      "source": [
        "def readFramesThread(sema, x_data, y_data, word, path, dsize):\n",
        "  sema.acquire()\n",
        "    \n",
        "  frames = os.listdir(path)\n",
        "  lframes = []\n",
        "  \n",
        "  for frame in frames: # read all frames in video\n",
        "    frame_path = os.path.join(path, frame)\n",
        "    img = cv2.imread(frame_path, 1)\n",
        "    img = preprocessingImg(img, dsize)\n",
        "    lframes.append(img)\n",
        "\n",
        "  x_data.append(lframes) # add video into list\n",
        "  y_data.append(word) # add label\n",
        "\n",
        "  # time.sleep(0.2)\n",
        "  sema.release()\n",
        "\n",
        "\n",
        "def readDataThread(input_path, csv_file, dsize=(128,128), listWord = None):\n",
        "  x_data = []\n",
        "  y_data = []\n",
        "\n",
        "  maxthreads = NUM_THREADS\n",
        "  sema = threading.Semaphore(value=maxthreads) # sema type\n",
        "  threads = list()\n",
        "\n",
        "  with open(csv_file) as csvfile: # read path from csv\n",
        "    reader = csv.reader(csvfile)\n",
        "    for row in reader:\n",
        "      # video path\n",
        "      video = row[0]\n",
        "      word = video.split('/')[0]\n",
        "\n",
        "      if (listWord != None) and (word not in listWord): # decrease num classes\n",
        "        continue\n",
        "\n",
        "      # print(video)\n",
        "      path = os.path.join(input_path, video)\n",
        "      # execute thread\n",
        "      thread = threading.Thread( target=readFramesThread, args=(sema, x_data, y_data, word, path, dsize) ) \n",
        "      threads.append(thread)\n",
        "      thread.start()\n",
        "    \n",
        "    for t in threads: # for waiting all thread end \n",
        "      t.join()\n",
        "\n",
        "  return x_data, y_data\n"
      ],
      "execution_count": null,
      "outputs": []
    },
    {
      "cell_type": "code",
      "metadata": {
        "id": "HamZ9_5-DwGU"
      },
      "source": [
        "def readFrames(path, dsize):\n",
        "  frames = os.listdir(path)\n",
        "  lframes = []\n",
        "  \n",
        "  for frame in frames: # read all frames in video\n",
        "    frame_path = os.path.join(path, frame)\n",
        "    img = cv2.imread(frame_path, 1)\n",
        "    img = resizeImage(img, dsize)\n",
        "    lframes.append(img)\n",
        "\n",
        "  return lframes\n",
        "\n",
        "def readData(input_path, csv_file, dsize=(128,128), listWord = None):\n",
        "  x_data = []\n",
        "  y_data = []\n",
        "\n",
        "  with open(csv_file) as csvfile: # read path from csv\n",
        "    reader = csv.reader(csvfile)\n",
        "    for row in reader:\n",
        "      # video path\n",
        "      video = row[0]\n",
        "      word = video.split('/')[0]\n",
        "      # if (listWord != None) and (word not in listWord): # decrease num classes\n",
        "      #   continue\n",
        "\n",
        "      print(video)\n",
        "      path = os.path.join(input_path, video)\n",
        "      lframes = readFrames(path, dszie)\n",
        "      \n",
        "      x_data.append(lframes) # add video into list\n",
        "      y_data.append(word) # add label\n",
        "\n",
        "  return x_data, y_data"
      ],
      "execution_count": null,
      "outputs": []
    },
    {
      "cell_type": "code",
      "metadata": {
        "id": "OxDgCoWD1RMq"
      },
      "source": [
        "#encoder label to train in model\n",
        "def encoderLabel(y_train, y_test, classes_file = 'classes.npy', save = True):\n",
        "  encoder = LabelEncoder()\n",
        "  encoder.fit(y_train)\n",
        "\n",
        "  # save classes, save as numpy array\n",
        "  if save == True:\n",
        "    np.save(classes_file, encoder.classes_)\n",
        "\n",
        "  # encoder to number\n",
        "  y_train1 = encoder.fit_transform(y_train)\n",
        "  y_test1 = encoder.fit_transform(y_test)\n",
        "\n",
        "  num_classes=len(np.unique(y_train))\n",
        "  #encoder to binary matrix\n",
        "  y_train2 = np_utils.to_categorical(y_train1, num_classes=len(np.unique(y_train)))\n",
        "  y_test2 = np_utils.to_categorical(y_test1, num_classes=len(np.unique(y_test)))\n",
        "  return y_train2, y_test2, num_classes"
      ],
      "execution_count": null,
      "outputs": []
    },
    {
      "cell_type": "markdown",
      "metadata": {
        "id": "nJjdA_w21hd6"
      },
      "source": [
        "# Main"
      ]
    },
    {
      "cell_type": "code",
      "metadata": {
        "id": "lp5ZPoN-dOVK"
      },
      "source": [
        "# listWord = ['Argentina', 'Accept' , 'Birthday', 'Candy', 'Dance','Help','Last name', 'Food', 'Red','Enemy']"
      ],
      "execution_count": null,
      "outputs": []
    },
    {
      "cell_type": "markdown",
      "metadata": {
        "id": "4hz6emE_WtsS"
      },
      "source": [
        "## Read data and preprocess"
      ]
    },
    {
      "cell_type": "code",
      "metadata": {
        "colab": {
          "base_uri": "https://localhost:8080/"
        },
        "id": "jqgdA0asPGVJ",
        "outputId": "abe58cfe-a9f2-42ca-98e5-21c22e1a60c6"
      },
      "source": [
        "# prepare train data\n",
        "start = time.time()\n",
        "\n",
        "train_path = 'Datasets/lsa64_videoperfolder/train'\n",
        "train_csv = 'Datasets/lsa64_videoperfolder/train_2.csv'\n",
        "\n",
        "# x_train, y_train = readData(test_path, test_csv, SIZE)\n",
        "# x_train_o, y_train_o = readDataThread(train_path, train_csv, SIZE, listWord)\n",
        "x_train_o, y_train_o = readDataThread(train_path, train_csv, SIZE)\n",
        "\n",
        "end = time.time()\n",
        "print('time:', end - start)"
      ],
      "execution_count": null,
      "outputs": [
        {
          "output_type": "stream",
          "text": [
            "time: 1686.3207535743713\n"
          ],
          "name": "stdout"
        }
      ]
    },
    {
      "cell_type": "code",
      "metadata": {
        "id": "89FBravF1kYU",
        "colab": {
          "base_uri": "https://localhost:8080/"
        },
        "outputId": "e97cd2fa-5079-4503-ebd3-e7f0bb8fcba0"
      },
      "source": [
        "# prepare test data\n",
        "start = time.time()\n",
        "\n",
        "test_path = 'Datasets/lsa64_videoperfolder/train'\n",
        "test_csv = 'Datasets/lsa64_videoperfolder/val_2.csv'\n",
        "\n",
        "# x_test_o, y_test_o = readDataThread(test_path, test_csv, SIZE, listWord)\n",
        "x_test_o, y_test_o = readDataThread(test_path, test_csv, SIZE)\n",
        "\n",
        "end = time.time()\n",
        "print('time:', end - start)"
      ],
      "execution_count": null,
      "outputs": [
        {
          "output_type": "stream",
          "text": [
            "time: 528.0885164737701\n"
          ],
          "name": "stdout"
        }
      ]
    },
    {
      "cell_type": "code",
      "metadata": {
        "id": "K5AbzLLQgbmZ",
        "colab": {
          "base_uri": "https://localhost:8080/"
        },
        "outputId": "7d19d20c-0b16-40f0-c12e-98f7571a725e"
      },
      "source": [
        "# convert to numpy array\n",
        "x_train = np.array(x_train_o)\n",
        "y_train = np.array(y_train_o)\n",
        "x_test = np.array(x_test_o)\n",
        "y_test = np.array(y_test_o)\n",
        "\n",
        "print('x_train shape', x_train.shape) # (400, 10, 128, 128, 3) max 2560\n",
        "print('y_train shape', y_train.shape) # (400,)\n",
        "print('x_test shape', x_test.shape) # (100, 10, 128, 128, 3) max 640\n",
        "print('y_test shape', y_test.shape) # (100,)\n",
        "\n",
        "convert = False\n",
        "if convert == True:\n",
        "  n, nb, h, w, c = x_train.shape\n",
        "  x_train= x_train.reshape(n, nb, h*w*c)\n",
        "  n, nb, h, w, c = x_test.shape\n",
        "  x_test= x_test.reshape(n, nb, h*w*c)\n",
        "\n",
        "  print('x_train shape', x_train.shape) # (400, 10, 223) max 2560\n",
        "  print('y_train shape', y_train.shape) # (400,)\n",
        "  print('x_test shape', x_test.shape) # (100, 10, 128, 128, 3) max 640\n",
        "  print('y_test shape', y_test.shape) # (100,)"
      ],
      "execution_count": null,
      "outputs": [
        {
          "output_type": "stream",
          "text": [
            "x_train shape (1920, 10, 64, 64, 3)\n",
            "y_train shape (1920,)\n",
            "x_test shape (640, 10, 64, 64, 3)\n",
            "y_test shape (640,)\n"
          ],
          "name": "stdout"
        }
      ]
    },
    {
      "cell_type": "code",
      "metadata": {
        "id": "8GObsTcd8l9f"
      },
      "source": [
        "x_train = x_train /255.\n",
        "x_test = x_test / 255."
      ],
      "execution_count": null,
      "outputs": []
    },
    {
      "cell_type": "markdown",
      "metadata": {
        "id": "D2NRuWWvPc4H"
      },
      "source": [
        "## Encode label"
      ]
    },
    {
      "cell_type": "code",
      "metadata": {
        "id": "C5N2S2E_fJWW",
        "colab": {
          "base_uri": "https://localhost:8080/"
        },
        "outputId": "13bc5701-c1b2-4f4b-abe6-50ee2b316802"
      },
      "source": [
        "# show num classes, it is neccesảy to run\n",
        "listclasses =  np.unique(y_train)\n",
        "num_classes = len(listclasses)\n",
        "print(num_classes)\n",
        "print(listclasses)\n",
        "# encode label for training\n",
        "y_train_decode, y_test_decode, num_classes = encoderLabel(y_train, y_test)\n",
        "# y_train_decode, y_test_decode are var which encode for training\n",
        "# y_train, y_test are original var to test after that, for showing word from predicted video \n",
        "print(y_train_decode.shape)\n",
        "print(y_test_decode.shape)"
      ],
      "execution_count": null,
      "outputs": [
        {
          "output_type": "stream",
          "text": [
            "64\n",
            "['Accept' 'Appear' 'Argentina' 'Away' 'Barbecue' 'Bathe' 'Birthday'\n",
            " 'Bitter' 'Born' 'Breakfast' 'Bright' 'Buy' 'Call' 'Candy' 'Catch'\n",
            " 'Chewing-gum' 'Coin' 'Colors' 'Copy' 'Country' 'Dance' 'Deaf' 'Drawer'\n",
            " 'Enemy' 'Find' 'Food' 'Give' 'Green' 'Help' 'Hungry' 'Last name' 'Learn'\n",
            " 'Light-blue' 'Man' 'Map' 'Milk' 'Mock' 'Music' 'Name' 'None' 'Opaque'\n",
            " 'Patience' 'Perfume' 'Photo' 'Realize' 'Red' 'Red_2' 'Rice' 'Run' 'Ship'\n",
            " 'Shut down' 'Skimmer' 'Son' 'Spaghetti' 'Sweet milk' 'Thanks' 'To land'\n",
            " 'Trap' 'Uruguay' 'Water' 'Where' 'Women' 'Yellow' 'Yogurt']\n",
            "(1920, 64)\n",
            "(640, 64)\n"
          ],
          "name": "stdout"
        }
      ]
    },
    {
      "cell_type": "markdown",
      "metadata": {
        "id": "KKL-rBxz1vja"
      },
      "source": [
        "# Model"
      ]
    },
    {
      "cell_type": "markdown",
      "metadata": {
        "id": "Cd-5wA1QPRLI"
      },
      "source": [
        "## Model Architecture"
      ]
    },
    {
      "cell_type": "code",
      "metadata": {
        "id": "qUZGjk8g9HyK"
      },
      "source": [
        "def load_VGG16_model(shape=(112, 112, 3)):\n",
        "  base_model = VGG16(weights='imagenet', include_top=False, input_shape=shape)\n",
        "  print(\"Model loaded..!\")\n",
        "  base_model.summary()\n",
        "\n",
        "  # model.add(Flatten())\n",
        "  output1 = GlobalMaxPool2D()\n",
        "  output2 = Flatten()\n",
        "  module = keras.Sequential([base_model, output1, output2])\n",
        "  module.summary()\n",
        "  return module\n",
        "\n",
        "def RNNModel(shape=(5, 112, 112, 3), nbout=3):\n",
        "  model = Sequential()\n",
        "  \n",
        "  convnet = load_VGG16_model(shape[1:])\n",
        "  model.add(TimeDistributed(convnet, input_shape=shape))\n",
        "\n",
        "  model.add(SimpleRNN(256, dropout=0.2))\n",
        "  model.add(Dense(1024, activation='relu'))\n",
        "  model.add(Dropout(0.5))\n",
        "  model.add(Dense(nbout, activation='softmax'))\n",
        "  sgd = keras.optimizers.SGD(lr=0.00005, decay = 1e-6, momentum=0.9, nesterov=True)\n",
        "  # sgd = keras.optimizers.SGD( momentum=0.9, nesterov=True)\n",
        "  model.compile(optimizer=sgd, loss='categorical_crossentropy', metrics=['accuracy'])\n",
        "  return model"
      ],
      "execution_count": null,
      "outputs": []
    },
    {
      "cell_type": "code",
      "metadata": {
        "id": "l95-KgmfyqBb",
        "colab": {
          "base_uri": "https://localhost:8080/"
        },
        "outputId": "abd5df8e-e7f4-441d-90a7-2be5cb2f5015"
      },
      "source": [
        "#Create Model\n",
        "INSHAPE=(NBFRAME,) + SIZE + (CHANNELS,) # (5, 112, 112, 3)\n",
        "# INSHAPE= ( NBFRAME, SIZE[0] * SIZE[1] * CHANNELS)  # (5, 128 * 128 * 3)\n",
        "print(INSHAPE) \n",
        "model = RNNModel(INSHAPE, num_classes)\n",
        "model.summary()"
      ],
      "execution_count": null,
      "outputs": [
        {
          "output_type": "stream",
          "text": [
            "(10, 64, 64, 3)\n",
            "Downloading data from https://storage.googleapis.com/tensorflow/keras-applications/vgg16/vgg16_weights_tf_dim_ordering_tf_kernels_notop.h5\n",
            "58892288/58889256 [==============================] - 0s 0us/step\n",
            "Model loaded..!\n",
            "Model: \"vgg16\"\n",
            "_________________________________________________________________\n",
            "Layer (type)                 Output Shape              Param #   \n",
            "=================================================================\n",
            "input_2 (InputLayer)         [(None, 64, 64, 3)]       0         \n",
            "_________________________________________________________________\n",
            "block1_conv1 (Conv2D)        (None, 64, 64, 64)        1792      \n",
            "_________________________________________________________________\n",
            "block1_conv2 (Conv2D)        (None, 64, 64, 64)        36928     \n",
            "_________________________________________________________________\n",
            "block1_pool (MaxPooling2D)   (None, 32, 32, 64)        0         \n",
            "_________________________________________________________________\n",
            "block2_conv1 (Conv2D)        (None, 32, 32, 128)       73856     \n",
            "_________________________________________________________________\n",
            "block2_conv2 (Conv2D)        (None, 32, 32, 128)       147584    \n",
            "_________________________________________________________________\n",
            "block2_pool (MaxPooling2D)   (None, 16, 16, 128)       0         \n",
            "_________________________________________________________________\n",
            "block3_conv1 (Conv2D)        (None, 16, 16, 256)       295168    \n",
            "_________________________________________________________________\n",
            "block3_conv2 (Conv2D)        (None, 16, 16, 256)       590080    \n",
            "_________________________________________________________________\n",
            "block3_conv3 (Conv2D)        (None, 16, 16, 256)       590080    \n",
            "_________________________________________________________________\n",
            "block3_pool (MaxPooling2D)   (None, 8, 8, 256)         0         \n",
            "_________________________________________________________________\n",
            "block4_conv1 (Conv2D)        (None, 8, 8, 512)         1180160   \n",
            "_________________________________________________________________\n",
            "block4_conv2 (Conv2D)        (None, 8, 8, 512)         2359808   \n",
            "_________________________________________________________________\n",
            "block4_conv3 (Conv2D)        (None, 8, 8, 512)         2359808   \n",
            "_________________________________________________________________\n",
            "block4_pool (MaxPooling2D)   (None, 4, 4, 512)         0         \n",
            "_________________________________________________________________\n",
            "block5_conv1 (Conv2D)        (None, 4, 4, 512)         2359808   \n",
            "_________________________________________________________________\n",
            "block5_conv2 (Conv2D)        (None, 4, 4, 512)         2359808   \n",
            "_________________________________________________________________\n",
            "block5_conv3 (Conv2D)        (None, 4, 4, 512)         2359808   \n",
            "_________________________________________________________________\n",
            "block5_pool (MaxPooling2D)   (None, 2, 2, 512)         0         \n",
            "=================================================================\n",
            "Total params: 14,714,688\n",
            "Trainable params: 14,714,688\n",
            "Non-trainable params: 0\n",
            "_________________________________________________________________\n",
            "Model: \"sequential_1\"\n",
            "_________________________________________________________________\n",
            "Layer (type)                 Output Shape              Param #   \n",
            "=================================================================\n",
            "vgg16 (Functional)           (None, 2, 2, 512)         14714688  \n",
            "_________________________________________________________________\n",
            "global_max_pooling2d (Global (None, 512)               0         \n",
            "_________________________________________________________________\n",
            "flatten (Flatten)            (None, 512)               0         \n",
            "=================================================================\n",
            "Total params: 14,714,688\n",
            "Trainable params: 14,714,688\n",
            "Non-trainable params: 0\n",
            "_________________________________________________________________\n",
            "Model: \"sequential\"\n",
            "_________________________________________________________________\n",
            "Layer (type)                 Output Shape              Param #   \n",
            "=================================================================\n",
            "time_distributed (TimeDistri (None, 10, 512)           14714688  \n",
            "_________________________________________________________________\n",
            "simple_rnn (SimpleRNN)       (None, 256)               196864    \n",
            "_________________________________________________________________\n",
            "dense (Dense)                (None, 1024)              263168    \n",
            "_________________________________________________________________\n",
            "dropout (Dropout)            (None, 1024)              0         \n",
            "_________________________________________________________________\n",
            "dense_1 (Dense)              (None, 64)                65600     \n",
            "=================================================================\n",
            "Total params: 15,240,320\n",
            "Trainable params: 15,240,320\n",
            "Non-trainable params: 0\n",
            "_________________________________________________________________\n"
          ],
          "name": "stdout"
        }
      ]
    },
    {
      "cell_type": "markdown",
      "metadata": {
        "id": "jOH3yLN3PXh-"
      },
      "source": [
        "## Define model and run"
      ]
    },
    {
      "cell_type": "code",
      "metadata": {
        "id": "XxezPqNo2Bm_",
        "colab": {
          "base_uri": "https://localhost:8080/"
        },
        "outputId": "3024db03-e530-4763-fe26-7dbf418c2477"
      },
      "source": [
        "tic = time.time()\n",
        "\n",
        "EPOCHS = 120\n",
        "early_stoping = EarlyStopping(monitor='val_accuracy', patience=9, verbose=1, mode='max')\n",
        "save_checkpoint = ModelCheckpoint('chkp/best-weights-RNN-10-5.hdf5', monitor = 'val_accuracy', verbose = 1, save_best_only = True, save_weights_only = True, mode='max')\n",
        "csv_logger = CSVLogger('chkp/training-rnn.csv', separator=\",\", append=False) # dùng pandas đọc\n",
        "# reduce_lr = ReduceLROnPlateau(monitor = 'val_accuracy', factor = 0.2, patience = 1, min_lr = 1e-8, verbose=1)\n",
        "\n",
        "callbacks = [early_stoping,  \n",
        "             save_checkpoint,\n",
        "             csv_logger,\n",
        "            #  reduce_lr\n",
        "             ]\n",
        "# history = model.fit_generator(train,validation_data=valid,verbose=1,epochs=EPOCHS,callbacks=callbacks)\n",
        "history = model.fit(x_train, y_train_decode, \n",
        "            epochs=EPOCHS, \n",
        "            batch_size=BS,\n",
        "            shuffle=True,\n",
        "            validation_data = (x_test, y_test_decode),\n",
        "            verbose=1,\n",
        "            callbacks=callbacks)\n",
        "\n",
        "toc = time.time()\n",
        "print(\"TRAINING TIME: \", toc-tic)"
      ],
      "execution_count": null,
      "outputs": [
        {
          "output_type": "stream",
          "text": [
            "Epoch 1/120\n",
            "96/96 [==============================] - 89s 518ms/step - loss: 4.3132 - accuracy: 0.0149 - val_loss: 4.1679 - val_accuracy: 0.0188\n",
            "\n",
            "Epoch 00001: val_accuracy improved from -inf to 0.01875, saving model to chkp/best-weights-RNN-10-5.hdf5\n",
            "Epoch 2/120\n",
            "96/96 [==============================] - 48s 504ms/step - loss: 4.2361 - accuracy: 0.0195 - val_loss: 4.0992 - val_accuracy: 0.0437\n",
            "\n",
            "Epoch 00002: val_accuracy improved from 0.01875 to 0.04375, saving model to chkp/best-weights-RNN-10-5.hdf5\n",
            "Epoch 3/120\n",
            "96/96 [==============================] - 48s 504ms/step - loss: 4.1974 - accuracy: 0.0235 - val_loss: 4.0367 - val_accuracy: 0.0672\n",
            "\n",
            "Epoch 00003: val_accuracy improved from 0.04375 to 0.06719, saving model to chkp/best-weights-RNN-10-5.hdf5\n",
            "Epoch 4/120\n",
            "96/96 [==============================] - 48s 504ms/step - loss: 4.1392 - accuracy: 0.0352 - val_loss: 3.9593 - val_accuracy: 0.0734\n",
            "\n",
            "Epoch 00004: val_accuracy improved from 0.06719 to 0.07344, saving model to chkp/best-weights-RNN-10-5.hdf5\n",
            "Epoch 5/120\n",
            "96/96 [==============================] - 48s 504ms/step - loss: 4.0790 - accuracy: 0.0356 - val_loss: 3.8786 - val_accuracy: 0.0938\n",
            "\n",
            "Epoch 00005: val_accuracy improved from 0.07344 to 0.09375, saving model to chkp/best-weights-RNN-10-5.hdf5\n",
            "Epoch 6/120\n",
            "96/96 [==============================] - 48s 505ms/step - loss: 3.9848 - accuracy: 0.0553 - val_loss: 3.7928 - val_accuracy: 0.1578\n",
            "\n",
            "Epoch 00006: val_accuracy improved from 0.09375 to 0.15781, saving model to chkp/best-weights-RNN-10-5.hdf5\n",
            "Epoch 7/120\n",
            "96/96 [==============================] - 48s 505ms/step - loss: 3.9050 - accuracy: 0.0731 - val_loss: 3.7059 - val_accuracy: 0.1797\n",
            "\n",
            "Epoch 00007: val_accuracy improved from 0.15781 to 0.17969, saving model to chkp/best-weights-RNN-10-5.hdf5\n",
            "Epoch 8/120\n",
            "96/96 [==============================] - 48s 504ms/step - loss: 3.8152 - accuracy: 0.0809 - val_loss: 3.6061 - val_accuracy: 0.2453\n",
            "\n",
            "Epoch 00008: val_accuracy improved from 0.17969 to 0.24531, saving model to chkp/best-weights-RNN-10-5.hdf5\n",
            "Epoch 9/120\n",
            "96/96 [==============================] - 48s 504ms/step - loss: 3.7451 - accuracy: 0.0921 - val_loss: 3.4951 - val_accuracy: 0.2797\n",
            "\n",
            "Epoch 00009: val_accuracy improved from 0.24531 to 0.27969, saving model to chkp/best-weights-RNN-10-5.hdf5\n",
            "Epoch 10/120\n",
            "96/96 [==============================] - 48s 504ms/step - loss: 3.6432 - accuracy: 0.1148 - val_loss: 3.4006 - val_accuracy: 0.3078\n",
            "\n",
            "Epoch 00010: val_accuracy improved from 0.27969 to 0.30781, saving model to chkp/best-weights-RNN-10-5.hdf5\n",
            "Epoch 11/120\n",
            "96/96 [==============================] - 48s 505ms/step - loss: 3.5596 - accuracy: 0.1513 - val_loss: 3.3017 - val_accuracy: 0.3344\n",
            "\n",
            "Epoch 00011: val_accuracy improved from 0.30781 to 0.33437, saving model to chkp/best-weights-RNN-10-5.hdf5\n",
            "Epoch 12/120\n",
            "96/96 [==============================] - 48s 505ms/step - loss: 3.4807 - accuracy: 0.1475 - val_loss: 3.2164 - val_accuracy: 0.3484\n",
            "\n",
            "Epoch 00012: val_accuracy improved from 0.33437 to 0.34844, saving model to chkp/best-weights-RNN-10-5.hdf5\n",
            "Epoch 13/120\n",
            "96/96 [==============================] - 48s 505ms/step - loss: 3.4302 - accuracy: 0.1814 - val_loss: 3.1425 - val_accuracy: 0.3688\n",
            "\n",
            "Epoch 00013: val_accuracy improved from 0.34844 to 0.36875, saving model to chkp/best-weights-RNN-10-5.hdf5\n",
            "Epoch 14/120\n",
            "96/96 [==============================] - 48s 505ms/step - loss: 3.3347 - accuracy: 0.2078 - val_loss: 3.0331 - val_accuracy: 0.3938\n",
            "\n",
            "Epoch 00014: val_accuracy improved from 0.36875 to 0.39375, saving model to chkp/best-weights-RNN-10-5.hdf5\n",
            "Epoch 15/120\n",
            "96/96 [==============================] - 48s 505ms/step - loss: 3.2662 - accuracy: 0.2141 - val_loss: 2.9469 - val_accuracy: 0.4219\n",
            "\n",
            "Epoch 00015: val_accuracy improved from 0.39375 to 0.42188, saving model to chkp/best-weights-RNN-10-5.hdf5\n",
            "Epoch 16/120\n",
            "96/96 [==============================] - 48s 506ms/step - loss: 3.1504 - accuracy: 0.2439 - val_loss: 2.8528 - val_accuracy: 0.4594\n",
            "\n",
            "Epoch 00016: val_accuracy improved from 0.42188 to 0.45937, saving model to chkp/best-weights-RNN-10-5.hdf5\n",
            "Epoch 17/120\n",
            "96/96 [==============================] - 48s 504ms/step - loss: 3.0878 - accuracy: 0.2758 - val_loss: 2.7741 - val_accuracy: 0.4922\n",
            "\n",
            "Epoch 00017: val_accuracy improved from 0.45937 to 0.49219, saving model to chkp/best-weights-RNN-10-5.hdf5\n",
            "Epoch 18/120\n",
            "96/96 [==============================] - 48s 504ms/step - loss: 3.0008 - accuracy: 0.3000 - val_loss: 2.7080 - val_accuracy: 0.5000\n",
            "\n",
            "Epoch 00018: val_accuracy improved from 0.49219 to 0.50000, saving model to chkp/best-weights-RNN-10-5.hdf5\n",
            "Epoch 19/120\n",
            "96/96 [==============================] - 49s 506ms/step - loss: 2.9529 - accuracy: 0.3277 - val_loss: 2.6215 - val_accuracy: 0.5109\n",
            "\n",
            "Epoch 00019: val_accuracy improved from 0.50000 to 0.51094, saving model to chkp/best-weights-RNN-10-5.hdf5\n",
            "Epoch 20/120\n",
            "96/96 [==============================] - 49s 506ms/step - loss: 2.8823 - accuracy: 0.3267 - val_loss: 2.5418 - val_accuracy: 0.5312\n",
            "\n",
            "Epoch 00020: val_accuracy improved from 0.51094 to 0.53125, saving model to chkp/best-weights-RNN-10-5.hdf5\n",
            "Epoch 21/120\n",
            "96/96 [==============================] - 48s 505ms/step - loss: 2.8177 - accuracy: 0.3444 - val_loss: 2.4621 - val_accuracy: 0.5562\n",
            "\n",
            "Epoch 00021: val_accuracy improved from 0.53125 to 0.55625, saving model to chkp/best-weights-RNN-10-5.hdf5\n",
            "Epoch 22/120\n",
            "96/96 [==============================] - 48s 505ms/step - loss: 2.7397 - accuracy: 0.3811 - val_loss: 2.4049 - val_accuracy: 0.5625\n",
            "\n",
            "Epoch 00022: val_accuracy improved from 0.55625 to 0.56250, saving model to chkp/best-weights-RNN-10-5.hdf5\n",
            "Epoch 23/120\n",
            "96/96 [==============================] - 48s 505ms/step - loss: 2.6662 - accuracy: 0.3794 - val_loss: 2.3325 - val_accuracy: 0.5750\n",
            "\n",
            "Epoch 00023: val_accuracy improved from 0.56250 to 0.57500, saving model to chkp/best-weights-RNN-10-5.hdf5\n",
            "Epoch 24/120\n",
            "96/96 [==============================] - 48s 505ms/step - loss: 2.5701 - accuracy: 0.4305 - val_loss: 2.2590 - val_accuracy: 0.5969\n",
            "\n",
            "Epoch 00024: val_accuracy improved from 0.57500 to 0.59688, saving model to chkp/best-weights-RNN-10-5.hdf5\n",
            "Epoch 25/120\n",
            "96/96 [==============================] - 48s 505ms/step - loss: 2.5320 - accuracy: 0.4038 - val_loss: 2.2092 - val_accuracy: 0.5922\n",
            "\n",
            "Epoch 00025: val_accuracy did not improve from 0.59688\n",
            "Epoch 26/120\n",
            "96/96 [==============================] - 48s 505ms/step - loss: 2.4673 - accuracy: 0.4388 - val_loss: 2.1344 - val_accuracy: 0.5859\n",
            "\n",
            "Epoch 00026: val_accuracy did not improve from 0.59688\n",
            "Epoch 27/120\n",
            "96/96 [==============================] - 48s 505ms/step - loss: 2.3915 - accuracy: 0.4732 - val_loss: 2.0693 - val_accuracy: 0.6062\n",
            "\n",
            "Epoch 00027: val_accuracy improved from 0.59688 to 0.60625, saving model to chkp/best-weights-RNN-10-5.hdf5\n",
            "Epoch 28/120\n",
            "96/96 [==============================] - 48s 504ms/step - loss: 2.3386 - accuracy: 0.4668 - val_loss: 2.0066 - val_accuracy: 0.6172\n",
            "\n",
            "Epoch 00028: val_accuracy improved from 0.60625 to 0.61719, saving model to chkp/best-weights-RNN-10-5.hdf5\n",
            "Epoch 29/120\n",
            "96/96 [==============================] - 48s 505ms/step - loss: 2.2981 - accuracy: 0.4886 - val_loss: 1.9623 - val_accuracy: 0.6344\n",
            "\n",
            "Epoch 00029: val_accuracy improved from 0.61719 to 0.63437, saving model to chkp/best-weights-RNN-10-5.hdf5\n",
            "Epoch 30/120\n",
            "96/96 [==============================] - 48s 504ms/step - loss: 2.2179 - accuracy: 0.4850 - val_loss: 1.8938 - val_accuracy: 0.6422\n",
            "\n",
            "Epoch 00030: val_accuracy improved from 0.63437 to 0.64219, saving model to chkp/best-weights-RNN-10-5.hdf5\n",
            "Epoch 31/120\n",
            "96/96 [==============================] - 48s 505ms/step - loss: 2.1715 - accuracy: 0.4948 - val_loss: 1.8406 - val_accuracy: 0.6500\n",
            "\n",
            "Epoch 00031: val_accuracy improved from 0.64219 to 0.65000, saving model to chkp/best-weights-RNN-10-5.hdf5\n",
            "Epoch 32/120\n",
            "96/96 [==============================] - 48s 504ms/step - loss: 2.0969 - accuracy: 0.5425 - val_loss: 1.8005 - val_accuracy: 0.6594\n",
            "\n",
            "Epoch 00032: val_accuracy improved from 0.65000 to 0.65938, saving model to chkp/best-weights-RNN-10-5.hdf5\n",
            "Epoch 33/120\n",
            "96/96 [==============================] - 48s 505ms/step - loss: 2.0526 - accuracy: 0.5466 - val_loss: 1.7521 - val_accuracy: 0.6578\n",
            "\n",
            "Epoch 00033: val_accuracy did not improve from 0.65938\n",
            "Epoch 34/120\n",
            "96/96 [==============================] - 48s 504ms/step - loss: 2.0302 - accuracy: 0.5477 - val_loss: 1.6996 - val_accuracy: 0.6703\n",
            "\n",
            "Epoch 00034: val_accuracy improved from 0.65938 to 0.67031, saving model to chkp/best-weights-RNN-10-5.hdf5\n",
            "Epoch 35/120\n",
            "96/96 [==============================] - 48s 505ms/step - loss: 2.0025 - accuracy: 0.5418 - val_loss: 1.6583 - val_accuracy: 0.6844\n",
            "\n",
            "Epoch 00035: val_accuracy improved from 0.67031 to 0.68437, saving model to chkp/best-weights-RNN-10-5.hdf5\n",
            "Epoch 36/120\n",
            "96/96 [==============================] - 48s 505ms/step - loss: 1.9414 - accuracy: 0.5316 - val_loss: 1.6236 - val_accuracy: 0.6734\n",
            "\n",
            "Epoch 00036: val_accuracy did not improve from 0.68437\n",
            "Epoch 37/120\n",
            "96/96 [==============================] - 48s 505ms/step - loss: 1.8463 - accuracy: 0.6020 - val_loss: 1.5882 - val_accuracy: 0.6953\n",
            "\n",
            "Epoch 00037: val_accuracy improved from 0.68437 to 0.69531, saving model to chkp/best-weights-RNN-10-5.hdf5\n",
            "Epoch 38/120\n",
            "96/96 [==============================] - 48s 505ms/step - loss: 1.8446 - accuracy: 0.5768 - val_loss: 1.5474 - val_accuracy: 0.6781\n",
            "\n",
            "Epoch 00038: val_accuracy did not improve from 0.69531\n",
            "Epoch 39/120\n",
            "96/96 [==============================] - 49s 506ms/step - loss: 1.7928 - accuracy: 0.6084 - val_loss: 1.5130 - val_accuracy: 0.6906\n",
            "\n",
            "Epoch 00039: val_accuracy did not improve from 0.69531\n",
            "Epoch 40/120\n",
            "96/96 [==============================] - 48s 505ms/step - loss: 1.7737 - accuracy: 0.5985 - val_loss: 1.4702 - val_accuracy: 0.7031\n",
            "\n",
            "Epoch 00040: val_accuracy improved from 0.69531 to 0.70312, saving model to chkp/best-weights-RNN-10-5.hdf5\n",
            "Epoch 41/120\n",
            "96/96 [==============================] - 48s 505ms/step - loss: 1.7035 - accuracy: 0.6149 - val_loss: 1.4352 - val_accuracy: 0.7047\n",
            "\n",
            "Epoch 00041: val_accuracy improved from 0.70312 to 0.70469, saving model to chkp/best-weights-RNN-10-5.hdf5\n",
            "Epoch 42/120\n",
            "96/96 [==============================] - 48s 504ms/step - loss: 1.6808 - accuracy: 0.6215 - val_loss: 1.4050 - val_accuracy: 0.7047\n",
            "\n",
            "Epoch 00042: val_accuracy did not improve from 0.70469\n",
            "Epoch 43/120\n",
            "96/96 [==============================] - 48s 505ms/step - loss: 1.6291 - accuracy: 0.6405 - val_loss: 1.3710 - val_accuracy: 0.7188\n",
            "\n",
            "Epoch 00043: val_accuracy improved from 0.70469 to 0.71875, saving model to chkp/best-weights-RNN-10-5.hdf5\n",
            "Epoch 44/120\n",
            "96/96 [==============================] - 48s 505ms/step - loss: 1.6406 - accuracy: 0.6313 - val_loss: 1.3288 - val_accuracy: 0.7250\n",
            "\n",
            "Epoch 00044: val_accuracy improved from 0.71875 to 0.72500, saving model to chkp/best-weights-RNN-10-5.hdf5\n",
            "Epoch 45/120\n",
            "96/96 [==============================] - 48s 505ms/step - loss: 1.6173 - accuracy: 0.6373 - val_loss: 1.3190 - val_accuracy: 0.7312\n",
            "\n",
            "Epoch 00045: val_accuracy improved from 0.72500 to 0.73125, saving model to chkp/best-weights-RNN-10-5.hdf5\n",
            "Epoch 46/120\n",
            "96/96 [==============================] - 48s 504ms/step - loss: 1.5462 - accuracy: 0.6495 - val_loss: 1.2832 - val_accuracy: 0.7406\n",
            "\n",
            "Epoch 00046: val_accuracy improved from 0.73125 to 0.74063, saving model to chkp/best-weights-RNN-10-5.hdf5\n",
            "Epoch 47/120\n",
            "96/96 [==============================] - 49s 506ms/step - loss: 1.4881 - accuracy: 0.6661 - val_loss: 1.2568 - val_accuracy: 0.7328\n",
            "\n",
            "Epoch 00047: val_accuracy did not improve from 0.74063\n",
            "Epoch 48/120\n",
            "96/96 [==============================] - 48s 505ms/step - loss: 1.5244 - accuracy: 0.6487 - val_loss: 1.2274 - val_accuracy: 0.7531\n",
            "\n",
            "Epoch 00048: val_accuracy improved from 0.74063 to 0.75313, saving model to chkp/best-weights-RNN-10-5.hdf5\n",
            "Epoch 49/120\n",
            "96/96 [==============================] - 48s 504ms/step - loss: 1.4199 - accuracy: 0.6790 - val_loss: 1.2088 - val_accuracy: 0.7391\n",
            "\n",
            "Epoch 00049: val_accuracy did not improve from 0.75313\n",
            "Epoch 50/120\n",
            "96/96 [==============================] - 48s 506ms/step - loss: 1.3842 - accuracy: 0.7029 - val_loss: 1.1915 - val_accuracy: 0.7500\n",
            "\n",
            "Epoch 00050: val_accuracy did not improve from 0.75313\n",
            "Epoch 51/120\n",
            "96/96 [==============================] - 48s 506ms/step - loss: 1.3816 - accuracy: 0.6910 - val_loss: 1.1552 - val_accuracy: 0.7484\n",
            "\n",
            "Epoch 00051: val_accuracy did not improve from 0.75313\n",
            "Epoch 52/120\n",
            "96/96 [==============================] - 49s 506ms/step - loss: 1.3055 - accuracy: 0.7246 - val_loss: 1.1227 - val_accuracy: 0.7625\n",
            "\n",
            "Epoch 00052: val_accuracy improved from 0.75313 to 0.76250, saving model to chkp/best-weights-RNN-10-5.hdf5\n",
            "Epoch 53/120\n",
            "96/96 [==============================] - 48s 506ms/step - loss: 1.3392 - accuracy: 0.6992 - val_loss: 1.1044 - val_accuracy: 0.7719\n",
            "\n",
            "Epoch 00053: val_accuracy improved from 0.76250 to 0.77188, saving model to chkp/best-weights-RNN-10-5.hdf5\n",
            "Epoch 54/120\n",
            "96/96 [==============================] - 48s 505ms/step - loss: 1.2624 - accuracy: 0.7290 - val_loss: 1.0949 - val_accuracy: 0.7547\n",
            "\n",
            "Epoch 00054: val_accuracy did not improve from 0.77188\n",
            "Epoch 55/120\n",
            "96/96 [==============================] - 48s 505ms/step - loss: 1.2666 - accuracy: 0.7396 - val_loss: 1.0552 - val_accuracy: 0.7734\n",
            "\n",
            "Epoch 00055: val_accuracy improved from 0.77188 to 0.77344, saving model to chkp/best-weights-RNN-10-5.hdf5\n",
            "Epoch 56/120\n",
            "96/96 [==============================] - 48s 505ms/step - loss: 1.2155 - accuracy: 0.7399 - val_loss: 1.0319 - val_accuracy: 0.7766\n",
            "\n",
            "Epoch 00056: val_accuracy improved from 0.77344 to 0.77656, saving model to chkp/best-weights-RNN-10-5.hdf5\n",
            "Epoch 57/120\n",
            "96/96 [==============================] - 48s 506ms/step - loss: 1.1822 - accuracy: 0.7568 - val_loss: 1.0312 - val_accuracy: 0.7781\n",
            "\n",
            "Epoch 00057: val_accuracy improved from 0.77656 to 0.77812, saving model to chkp/best-weights-RNN-10-5.hdf5\n",
            "Epoch 58/120\n",
            "96/96 [==============================] - 48s 506ms/step - loss: 1.1878 - accuracy: 0.7530 - val_loss: 0.9892 - val_accuracy: 0.7812\n",
            "\n",
            "Epoch 00058: val_accuracy improved from 0.77812 to 0.78125, saving model to chkp/best-weights-RNN-10-5.hdf5\n",
            "Epoch 59/120\n",
            "96/96 [==============================] - 49s 506ms/step - loss: 1.1628 - accuracy: 0.7653 - val_loss: 0.9852 - val_accuracy: 0.7688\n",
            "\n",
            "Epoch 00059: val_accuracy did not improve from 0.78125\n",
            "Epoch 60/120\n",
            "96/96 [==============================] - 49s 507ms/step - loss: 1.1216 - accuracy: 0.7753 - val_loss: 0.9717 - val_accuracy: 0.7844\n",
            "\n",
            "Epoch 00060: val_accuracy improved from 0.78125 to 0.78438, saving model to chkp/best-weights-RNN-10-5.hdf5\n",
            "Epoch 61/120\n",
            "96/96 [==============================] - 48s 506ms/step - loss: 1.1221 - accuracy: 0.7658 - val_loss: 0.9344 - val_accuracy: 0.7953\n",
            "\n",
            "Epoch 00061: val_accuracy improved from 0.78438 to 0.79531, saving model to chkp/best-weights-RNN-10-5.hdf5\n",
            "Epoch 62/120\n",
            "96/96 [==============================] - 48s 505ms/step - loss: 1.0572 - accuracy: 0.7804 - val_loss: 0.9214 - val_accuracy: 0.8016\n",
            "\n",
            "Epoch 00062: val_accuracy improved from 0.79531 to 0.80156, saving model to chkp/best-weights-RNN-10-5.hdf5\n",
            "Epoch 63/120\n",
            "96/96 [==============================] - 48s 505ms/step - loss: 1.0374 - accuracy: 0.7983 - val_loss: 0.9044 - val_accuracy: 0.7969\n",
            "\n",
            "Epoch 00063: val_accuracy did not improve from 0.80156\n",
            "Epoch 64/120\n",
            "96/96 [==============================] - 48s 505ms/step - loss: 1.0429 - accuracy: 0.7868 - val_loss: 0.8959 - val_accuracy: 0.8031\n",
            "\n",
            "Epoch 00064: val_accuracy improved from 0.80156 to 0.80313, saving model to chkp/best-weights-RNN-10-5.hdf5\n",
            "Epoch 65/120\n",
            "96/96 [==============================] - 48s 506ms/step - loss: 1.0012 - accuracy: 0.7969 - val_loss: 0.8649 - val_accuracy: 0.8062\n",
            "\n",
            "Epoch 00065: val_accuracy improved from 0.80313 to 0.80625, saving model to chkp/best-weights-RNN-10-5.hdf5\n",
            "Epoch 66/120\n",
            "96/96 [==============================] - 48s 505ms/step - loss: 1.0068 - accuracy: 0.7725 - val_loss: 0.8421 - val_accuracy: 0.8172\n",
            "\n",
            "Epoch 00066: val_accuracy improved from 0.80625 to 0.81719, saving model to chkp/best-weights-RNN-10-5.hdf5\n",
            "Epoch 67/120\n",
            "96/96 [==============================] - 48s 505ms/step - loss: 0.9409 - accuracy: 0.8206 - val_loss: 0.8437 - val_accuracy: 0.7969\n",
            "\n",
            "Epoch 00067: val_accuracy did not improve from 0.81719\n",
            "Epoch 68/120\n",
            "96/96 [==============================] - 48s 506ms/step - loss: 0.9548 - accuracy: 0.8196 - val_loss: 0.8183 - val_accuracy: 0.8250\n",
            "\n",
            "Epoch 00068: val_accuracy improved from 0.81719 to 0.82500, saving model to chkp/best-weights-RNN-10-5.hdf5\n",
            "Epoch 69/120\n",
            "96/96 [==============================] - 48s 506ms/step - loss: 0.9140 - accuracy: 0.8227 - val_loss: 0.8125 - val_accuracy: 0.8047\n",
            "\n",
            "Epoch 00069: val_accuracy did not improve from 0.82500\n",
            "Epoch 70/120\n",
            "96/96 [==============================] - 49s 506ms/step - loss: 0.9056 - accuracy: 0.8305 - val_loss: 0.8002 - val_accuracy: 0.8203\n",
            "\n",
            "Epoch 00070: val_accuracy did not improve from 0.82500\n",
            "Epoch 71/120\n",
            "96/96 [==============================] - 48s 505ms/step - loss: 0.8894 - accuracy: 0.8179 - val_loss: 0.7814 - val_accuracy: 0.8172\n",
            "\n",
            "Epoch 00071: val_accuracy did not improve from 0.82500\n",
            "Epoch 72/120\n",
            "96/96 [==============================] - 48s 505ms/step - loss: 0.8343 - accuracy: 0.8442 - val_loss: 0.7699 - val_accuracy: 0.8313\n",
            "\n",
            "Epoch 00072: val_accuracy improved from 0.82500 to 0.83125, saving model to chkp/best-weights-RNN-10-5.hdf5\n",
            "Epoch 73/120\n",
            "96/96 [==============================] - 48s 505ms/step - loss: 0.8548 - accuracy: 0.8274 - val_loss: 0.7590 - val_accuracy: 0.8250\n",
            "\n",
            "Epoch 00073: val_accuracy did not improve from 0.83125\n",
            "Epoch 74/120\n",
            "96/96 [==============================] - 48s 506ms/step - loss: 0.7967 - accuracy: 0.8524 - val_loss: 0.7368 - val_accuracy: 0.8359\n",
            "\n",
            "Epoch 00074: val_accuracy improved from 0.83125 to 0.83594, saving model to chkp/best-weights-RNN-10-5.hdf5\n",
            "Epoch 75/120\n",
            "96/96 [==============================] - 48s 505ms/step - loss: 0.8147 - accuracy: 0.8421 - val_loss: 0.7267 - val_accuracy: 0.8313\n",
            "\n",
            "Epoch 00075: val_accuracy did not improve from 0.83594\n",
            "Epoch 76/120\n",
            "96/96 [==============================] - 48s 506ms/step - loss: 0.8250 - accuracy: 0.8376 - val_loss: 0.7153 - val_accuracy: 0.8562\n",
            "\n",
            "Epoch 00076: val_accuracy improved from 0.83594 to 0.85625, saving model to chkp/best-weights-RNN-10-5.hdf5\n",
            "Epoch 77/120\n",
            "96/96 [==============================] - 49s 506ms/step - loss: 0.7567 - accuracy: 0.8636 - val_loss: 0.7100 - val_accuracy: 0.8344\n",
            "\n",
            "Epoch 00077: val_accuracy did not improve from 0.85625\n",
            "Epoch 78/120\n",
            "96/96 [==============================] - 48s 505ms/step - loss: 0.7648 - accuracy: 0.8611 - val_loss: 0.6865 - val_accuracy: 0.8453\n",
            "\n",
            "Epoch 00078: val_accuracy did not improve from 0.85625\n",
            "Epoch 79/120\n",
            "96/96 [==============================] - 49s 506ms/step - loss: 0.7787 - accuracy: 0.8414 - val_loss: 0.6897 - val_accuracy: 0.8375\n",
            "\n",
            "Epoch 00079: val_accuracy did not improve from 0.85625\n",
            "Epoch 80/120\n",
            "96/96 [==============================] - 49s 506ms/step - loss: 0.7195 - accuracy: 0.8719 - val_loss: 0.6667 - val_accuracy: 0.8484\n",
            "\n",
            "Epoch 00080: val_accuracy did not improve from 0.85625\n",
            "Epoch 81/120\n",
            "96/96 [==============================] - 48s 506ms/step - loss: 0.7025 - accuracy: 0.8826 - val_loss: 0.6738 - val_accuracy: 0.8469\n",
            "\n",
            "Epoch 00081: val_accuracy did not improve from 0.85625\n",
            "Epoch 82/120\n",
            "96/96 [==============================] - 48s 505ms/step - loss: 0.7243 - accuracy: 0.8604 - val_loss: 0.6477 - val_accuracy: 0.8438\n",
            "\n",
            "Epoch 00082: val_accuracy did not improve from 0.85625\n",
            "Epoch 83/120\n",
            "96/96 [==============================] - 49s 506ms/step - loss: 0.6941 - accuracy: 0.8591 - val_loss: 0.6429 - val_accuracy: 0.8500\n",
            "\n",
            "Epoch 00083: val_accuracy did not improve from 0.85625\n",
            "Epoch 84/120\n",
            "96/96 [==============================] - 48s 505ms/step - loss: 0.6701 - accuracy: 0.8864 - val_loss: 0.6664 - val_accuracy: 0.8375\n",
            "\n",
            "Epoch 00084: val_accuracy did not improve from 0.85625\n",
            "Epoch 85/120\n",
            "96/96 [==============================] - 48s 506ms/step - loss: 0.6578 - accuracy: 0.8835 - val_loss: 0.6288 - val_accuracy: 0.8469\n",
            "\n",
            "Epoch 00085: val_accuracy did not improve from 0.85625\n",
            "Epoch 00085: early stopping\n",
            "TRAINING TIME:  4222.282578468323\n"
          ],
          "name": "stdout"
        }
      ]
    },
    {
      "cell_type": "markdown",
      "metadata": {
        "id": "ixP0_K5yAAs_"
      },
      "source": [
        "## History running"
      ]
    },
    {
      "cell_type": "code",
      "metadata": {
        "id": "qB47jlnT___1"
      },
      "source": [
        "# list all data in history\n",
        "print(history.history.keys())\n",
        "# summarize history for accuracy\n",
        "plt.plot(history.history['accuracy'])\n",
        "plt.plot(history.history['val_accuracy'])\n",
        "plt.title('model accuracy')\n",
        "plt.ylabel('accuracy')\n",
        "plt.xlabel('epoch')\n",
        "plt.legend(['train', 'test'], loc='upper left')\n",
        "plt.show()\n",
        "print()\n",
        "# summarize history for loss\n",
        "plt.plot(history.history['loss'])\n",
        "plt.plot(history.history['val_loss'])\n",
        "plt.title('model loss')\n",
        "plt.ylabel('loss')\n",
        "plt.xlabel('epoch')\n",
        "plt.legend(['train', 'test'], loc='upper left')\n",
        "plt.show()"
      ],
      "execution_count": null,
      "outputs": []
    },
    {
      "cell_type": "code",
      "metadata": {
        "colab": {
          "base_uri": "https://localhost:8080/",
          "height": 1000
        },
        "id": "O3HeaAhq9e0x",
        "outputId": "c1bb6921-fef0-4339-9921-8ba17d4bfed4"
      },
      "source": [
        "# !python -m pip uninstall matplotlib\n",
        "# !pip install matplotlib==3.1.3\n",
        "import pandas as pd\n",
        "import matplotlib.pyplot as plt\n",
        "his = pd.read_csv('chkp/training-rnn.csv')  \n",
        "plt.plot(his['accuracy'])\n",
        "plt.plot(his['val_accuracy'])\n",
        "plt.title('model accuracy')\n",
        "plt.ylabel('accuracy')\n",
        "plt.xlabel('epoch')\n",
        "plt.legend(['train', 'test'], loc='upper left')\n",
        "plt.show()\n",
        "print()\n",
        "# summarize history for loss\n",
        "plt.plot(his['loss'])\n",
        "plt.plot(his['val_loss'])\n",
        "plt.title('model loss')\n",
        "plt.ylabel('loss')\n",
        "plt.xlabel('epoch')\n",
        "plt.legend(['train', 'test'], loc='upper left')\n",
        "plt.show()"
      ],
      "execution_count": null,
      "outputs": [
        {
          "output_type": "stream",
          "text": [
            "Uninstalling matplotlib-3.3.2:\n",
            "  Would remove:\n",
            "    /usr/local/lib/python3.7/dist-packages/matplotlib-3.3.2-py3.7-nspkg.pth\n",
            "    /usr/local/lib/python3.7/dist-packages/matplotlib-3.3.2.dist-info/*\n",
            "    /usr/local/lib/python3.7/dist-packages/matplotlib/*\n",
            "    /usr/local/lib/python3.7/dist-packages/mpl_toolkits/axes_grid/*\n",
            "    /usr/local/lib/python3.7/dist-packages/mpl_toolkits/axes_grid1/*\n",
            "    /usr/local/lib/python3.7/dist-packages/mpl_toolkits/axisartist/*\n",
            "    /usr/local/lib/python3.7/dist-packages/mpl_toolkits/mplot3d/*\n",
            "    /usr/local/lib/python3.7/dist-packages/mpl_toolkits/tests/*\n",
            "    /usr/local/lib/python3.7/dist-packages/pylab.py\n",
            "Proceed (y/n)? y\n",
            "  Successfully uninstalled matplotlib-3.3.2\n",
            "Collecting matplotlib==3.1.3\n",
            "\u001b[?25l  Downloading https://files.pythonhosted.org/packages/4c/9b/35ab3469fd1509f7636a344940569ebfd33239673fd2318e80b4700a257c/matplotlib-3.1.3-cp37-cp37m-manylinux1_x86_64.whl (13.1MB)\n",
            "\u001b[K     |████████████████████████████████| 13.1MB 234kB/s \n",
            "\u001b[?25hRequirement already satisfied: numpy>=1.11 in /usr/local/lib/python3.7/dist-packages (from matplotlib==3.1.3) (1.19.3)\n",
            "Requirement already satisfied: python-dateutil>=2.1 in /usr/local/lib/python3.7/dist-packages (from matplotlib==3.1.3) (2.8.1)\n",
            "Requirement already satisfied: cycler>=0.10 in /usr/local/lib/python3.7/dist-packages (from matplotlib==3.1.3) (0.10.0)\n",
            "Requirement already satisfied: kiwisolver>=1.0.1 in /usr/local/lib/python3.7/dist-packages (from matplotlib==3.1.3) (1.3.1)\n",
            "Requirement already satisfied: pyparsing!=2.0.4,!=2.1.2,!=2.1.6,>=2.0.1 in /usr/local/lib/python3.7/dist-packages (from matplotlib==3.1.3) (2.4.7)\n",
            "Requirement already satisfied: six>=1.5 in /usr/local/lib/python3.7/dist-packages (from python-dateutil>=2.1->matplotlib==3.1.3) (1.15.0)\n",
            "\u001b[31mERROR: imageai 2.1.6 has requirement matplotlib==3.3.2, but you'll have matplotlib 3.1.3 which is incompatible.\u001b[0m\n",
            "\u001b[31mERROR: albumentations 0.1.12 has requirement imgaug<0.2.7,>=0.2.5, but you'll have imgaug 0.2.9 which is incompatible.\u001b[0m\n",
            "Installing collected packages: matplotlib\n",
            "Successfully installed matplotlib-3.1.3\n"
          ],
          "name": "stdout"
        },
        {
          "output_type": "display_data",
          "data": {
            "application/vnd.colab-display-data+json": {
              "pip_warning": {
                "packages": [
                  "matplotlib",
                  "mpl_toolkits"
                ]
              }
            }
          },
          "metadata": {
            "tags": []
          }
        },
        {
          "output_type": "display_data",
          "data": {
            "image/png": "[encoded data removed]",
            "text/plain": [
              "<Figure size 432x288 with 1 Axes>"
            ]
          },
          "metadata": {
            "tags": [],
            "needs_background": "light"
          }
        },
        {
          "output_type": "stream",
          "text": [
            "\n"
          ],
          "name": "stdout"
        },
        {
          "output_type": "display_data",
          "data": {
            "image/png": "[encoded data removed]",
            "text/plain": [
              "<Figure size 432x288 with 1 Axes>"
            ]
          },
          "metadata": {
            "tags": [],
            "needs_background": "light"
          }
        }
      ]
    },
    {
      "cell_type": "markdown",
      "metadata": {
        "id": "hM8Azvf9LV_H"
      },
      "source": [
        "# References\n",
        "[1] face recognition code from NCKH: https://colab.research.google.com/drive/1I67IhZfni2sOlV36N6LqqIqf-S0KhACz\n",
        "\n",
        "[2] Model LSTM Giang: https://colab.research.google.com/drive/1_92N1vbv3fRBEguGeJrPSqGdGVVp5D0v\n",
        "\n",
        "[3] github retinanet: https://github.com/fizyr/keras-retinanet\n",
        "\n",
        "[4] ImageAI for Object detection: https://imageai.readthedocs.io/en/latest/detection/\n",
        "\n",
        "[5] Video Classification CNN and LSTM: https://github.com/sagarvegad/Video-Classification-CNN-and-LSTM-"
      ]
    }
  ]
}